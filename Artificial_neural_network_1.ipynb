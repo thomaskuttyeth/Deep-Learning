{
  "nbformat": 4,
  "nbformat_minor": 0,
  "metadata": {
    "colab": {
      "name": "Artificial_neural_network_1.ipynb",
      "provenance": []
    },
    "kernelspec": {
      "name": "python3",
      "display_name": "Python 3"
    },
    "language_info": {
      "name": "python"
    }
  },
  "cells": [
    {
      "cell_type": "code",
      "metadata": {
        "id": "2n9hVqBe0KNm"
      },
      "source": [
        "# loading the basic libraries \n",
        "import pandas as pd \n",
        "import numpy as np \n",
        "import matplotlib.pyplot as plt "
      ],
      "execution_count": 2,
      "outputs": []
    },
    {
      "cell_type": "code",
      "metadata": {
        "colab": {
          "base_uri": "https://localhost:8080/",
          "height": 226
        },
        "id": "iAwY7YND0mWu",
        "outputId": "bccb2b69-e5c8-43a6-efeb-97edf54afa6b"
      },
      "source": [
        "# loading the data and view the head \n",
        "df = pd.read_csv('https://raw.githubusercontent.com/krishnaik06/Complete-Deep-Learning/master/ANN/Churn_Modelling.csv') \n",
        "df.head() "
      ],
      "execution_count": 3,
      "outputs": [
        {
          "output_type": "execute_result",
          "data": {
            "text/html": [
              "<div>\n",
              "<style scoped>\n",
              "    .dataframe tbody tr th:only-of-type {\n",
              "        vertical-align: middle;\n",
              "    }\n",
              "\n",
              "    .dataframe tbody tr th {\n",
              "        vertical-align: top;\n",
              "    }\n",
              "\n",
              "    .dataframe thead th {\n",
              "        text-align: right;\n",
              "    }\n",
              "</style>\n",
              "<table border=\"1\" class=\"dataframe\">\n",
              "  <thead>\n",
              "    <tr style=\"text-align: right;\">\n",
              "      <th></th>\n",
              "      <th>RowNumber</th>\n",
              "      <th>CustomerId</th>\n",
              "      <th>Surname</th>\n",
              "      <th>CreditScore</th>\n",
              "      <th>Geography</th>\n",
              "      <th>Gender</th>\n",
              "      <th>Age</th>\n",
              "      <th>Tenure</th>\n",
              "      <th>Balance</th>\n",
              "      <th>NumOfProducts</th>\n",
              "      <th>HasCrCard</th>\n",
              "      <th>IsActiveMember</th>\n",
              "      <th>EstimatedSalary</th>\n",
              "      <th>Exited</th>\n",
              "    </tr>\n",
              "  </thead>\n",
              "  <tbody>\n",
              "    <tr>\n",
              "      <th>0</th>\n",
              "      <td>1</td>\n",
              "      <td>15634602</td>\n",
              "      <td>Hargrave</td>\n",
              "      <td>619</td>\n",
              "      <td>France</td>\n",
              "      <td>Female</td>\n",
              "      <td>42</td>\n",
              "      <td>2</td>\n",
              "      <td>0.00</td>\n",
              "      <td>1</td>\n",
              "      <td>1</td>\n",
              "      <td>1</td>\n",
              "      <td>101348.88</td>\n",
              "      <td>1</td>\n",
              "    </tr>\n",
              "    <tr>\n",
              "      <th>1</th>\n",
              "      <td>2</td>\n",
              "      <td>15647311</td>\n",
              "      <td>Hill</td>\n",
              "      <td>608</td>\n",
              "      <td>Spain</td>\n",
              "      <td>Female</td>\n",
              "      <td>41</td>\n",
              "      <td>1</td>\n",
              "      <td>83807.86</td>\n",
              "      <td>1</td>\n",
              "      <td>0</td>\n",
              "      <td>1</td>\n",
              "      <td>112542.58</td>\n",
              "      <td>0</td>\n",
              "    </tr>\n",
              "    <tr>\n",
              "      <th>2</th>\n",
              "      <td>3</td>\n",
              "      <td>15619304</td>\n",
              "      <td>Onio</td>\n",
              "      <td>502</td>\n",
              "      <td>France</td>\n",
              "      <td>Female</td>\n",
              "      <td>42</td>\n",
              "      <td>8</td>\n",
              "      <td>159660.80</td>\n",
              "      <td>3</td>\n",
              "      <td>1</td>\n",
              "      <td>0</td>\n",
              "      <td>113931.57</td>\n",
              "      <td>1</td>\n",
              "    </tr>\n",
              "    <tr>\n",
              "      <th>3</th>\n",
              "      <td>4</td>\n",
              "      <td>15701354</td>\n",
              "      <td>Boni</td>\n",
              "      <td>699</td>\n",
              "      <td>France</td>\n",
              "      <td>Female</td>\n",
              "      <td>39</td>\n",
              "      <td>1</td>\n",
              "      <td>0.00</td>\n",
              "      <td>2</td>\n",
              "      <td>0</td>\n",
              "      <td>0</td>\n",
              "      <td>93826.63</td>\n",
              "      <td>0</td>\n",
              "    </tr>\n",
              "    <tr>\n",
              "      <th>4</th>\n",
              "      <td>5</td>\n",
              "      <td>15737888</td>\n",
              "      <td>Mitchell</td>\n",
              "      <td>850</td>\n",
              "      <td>Spain</td>\n",
              "      <td>Female</td>\n",
              "      <td>43</td>\n",
              "      <td>2</td>\n",
              "      <td>125510.82</td>\n",
              "      <td>1</td>\n",
              "      <td>1</td>\n",
              "      <td>1</td>\n",
              "      <td>79084.10</td>\n",
              "      <td>0</td>\n",
              "    </tr>\n",
              "  </tbody>\n",
              "</table>\n",
              "</div>"
            ],
            "text/plain": [
              "   RowNumber  CustomerId   Surname  ...  IsActiveMember EstimatedSalary Exited\n",
              "0          1    15634602  Hargrave  ...               1       101348.88      1\n",
              "1          2    15647311      Hill  ...               1       112542.58      0\n",
              "2          3    15619304      Onio  ...               0       113931.57      1\n",
              "3          4    15701354      Boni  ...               0        93826.63      0\n",
              "4          5    15737888  Mitchell  ...               1        79084.10      0\n",
              "\n",
              "[5 rows x 14 columns]"
            ]
          },
          "metadata": {
            "tags": []
          },
          "execution_count": 3
        }
      ]
    },
    {
      "cell_type": "code",
      "metadata": {
        "colab": {
          "base_uri": "https://localhost:8080/"
        },
        "id": "SSgObDO-0puQ",
        "outputId": "f51b3562-e0dd-4a3f-8f4d-79b2ec302d76"
      },
      "source": [
        "# get the total shape of the data \n",
        "df.shape"
      ],
      "execution_count": 4,
      "outputs": [
        {
          "output_type": "execute_result",
          "data": {
            "text/plain": [
              "(10000, 14)"
            ]
          },
          "metadata": {
            "tags": []
          },
          "execution_count": 4
        }
      ]
    },
    {
      "cell_type": "code",
      "metadata": {
        "id": "A9J0xbub08rm"
      },
      "source": [
        "# taking the features \n",
        "X = df.iloc[:, 3:13]\n",
        "y = df.iloc[:, 13]\n"
      ],
      "execution_count": 5,
      "outputs": []
    },
    {
      "cell_type": "code",
      "metadata": {
        "id": "7JmeU92D1VkP"
      },
      "source": [
        "# Create dummy variables \n",
        "geography = pd.get_dummies(X[\"Geography\"], drop_first = True)\n",
        "gender = pd.get_dummies(X['Gender'], drop_first = True) \n",
        "\n",
        "# dropping unnessary columns \n",
        "X = X.drop(['Geography', 'Gender'], axis = 1) "
      ],
      "execution_count": 6,
      "outputs": []
    },
    {
      "cell_type": "code",
      "metadata": {
        "colab": {
          "base_uri": "https://localhost:8080/",
          "height": 226
        },
        "id": "2yxA6vhy2CMi",
        "outputId": "af466ccf-5d36-47a3-f529-187197c4cc77"
      },
      "source": [
        "# concantenate the dummies \n",
        "X = pd.concat([X, geography, gender], axis = 1) \n",
        "X.head()"
      ],
      "execution_count": 7,
      "outputs": [
        {
          "output_type": "execute_result",
          "data": {
            "text/html": [
              "<div>\n",
              "<style scoped>\n",
              "    .dataframe tbody tr th:only-of-type {\n",
              "        vertical-align: middle;\n",
              "    }\n",
              "\n",
              "    .dataframe tbody tr th {\n",
              "        vertical-align: top;\n",
              "    }\n",
              "\n",
              "    .dataframe thead th {\n",
              "        text-align: right;\n",
              "    }\n",
              "</style>\n",
              "<table border=\"1\" class=\"dataframe\">\n",
              "  <thead>\n",
              "    <tr style=\"text-align: right;\">\n",
              "      <th></th>\n",
              "      <th>CreditScore</th>\n",
              "      <th>Age</th>\n",
              "      <th>Tenure</th>\n",
              "      <th>Balance</th>\n",
              "      <th>NumOfProducts</th>\n",
              "      <th>HasCrCard</th>\n",
              "      <th>IsActiveMember</th>\n",
              "      <th>EstimatedSalary</th>\n",
              "      <th>Germany</th>\n",
              "      <th>Spain</th>\n",
              "      <th>Male</th>\n",
              "    </tr>\n",
              "  </thead>\n",
              "  <tbody>\n",
              "    <tr>\n",
              "      <th>0</th>\n",
              "      <td>619</td>\n",
              "      <td>42</td>\n",
              "      <td>2</td>\n",
              "      <td>0.00</td>\n",
              "      <td>1</td>\n",
              "      <td>1</td>\n",
              "      <td>1</td>\n",
              "      <td>101348.88</td>\n",
              "      <td>0</td>\n",
              "      <td>0</td>\n",
              "      <td>0</td>\n",
              "    </tr>\n",
              "    <tr>\n",
              "      <th>1</th>\n",
              "      <td>608</td>\n",
              "      <td>41</td>\n",
              "      <td>1</td>\n",
              "      <td>83807.86</td>\n",
              "      <td>1</td>\n",
              "      <td>0</td>\n",
              "      <td>1</td>\n",
              "      <td>112542.58</td>\n",
              "      <td>0</td>\n",
              "      <td>1</td>\n",
              "      <td>0</td>\n",
              "    </tr>\n",
              "    <tr>\n",
              "      <th>2</th>\n",
              "      <td>502</td>\n",
              "      <td>42</td>\n",
              "      <td>8</td>\n",
              "      <td>159660.80</td>\n",
              "      <td>3</td>\n",
              "      <td>1</td>\n",
              "      <td>0</td>\n",
              "      <td>113931.57</td>\n",
              "      <td>0</td>\n",
              "      <td>0</td>\n",
              "      <td>0</td>\n",
              "    </tr>\n",
              "    <tr>\n",
              "      <th>3</th>\n",
              "      <td>699</td>\n",
              "      <td>39</td>\n",
              "      <td>1</td>\n",
              "      <td>0.00</td>\n",
              "      <td>2</td>\n",
              "      <td>0</td>\n",
              "      <td>0</td>\n",
              "      <td>93826.63</td>\n",
              "      <td>0</td>\n",
              "      <td>0</td>\n",
              "      <td>0</td>\n",
              "    </tr>\n",
              "    <tr>\n",
              "      <th>4</th>\n",
              "      <td>850</td>\n",
              "      <td>43</td>\n",
              "      <td>2</td>\n",
              "      <td>125510.82</td>\n",
              "      <td>1</td>\n",
              "      <td>1</td>\n",
              "      <td>1</td>\n",
              "      <td>79084.10</td>\n",
              "      <td>0</td>\n",
              "      <td>1</td>\n",
              "      <td>0</td>\n",
              "    </tr>\n",
              "  </tbody>\n",
              "</table>\n",
              "</div>"
            ],
            "text/plain": [
              "   CreditScore  Age  Tenure    Balance  ...  EstimatedSalary  Germany  Spain  Male\n",
              "0          619   42       2       0.00  ...        101348.88        0      0     0\n",
              "1          608   41       1   83807.86  ...        112542.58        0      1     0\n",
              "2          502   42       8  159660.80  ...        113931.57        0      0     0\n",
              "3          699   39       1       0.00  ...         93826.63        0      0     0\n",
              "4          850   43       2  125510.82  ...         79084.10        0      1     0\n",
              "\n",
              "[5 rows x 11 columns]"
            ]
          },
          "metadata": {
            "tags": []
          },
          "execution_count": 7
        }
      ]
    },
    {
      "cell_type": "code",
      "metadata": {
        "id": "kjK6f-h823ef"
      },
      "source": [
        "# Splitting the dataset into train and test \n",
        "from sklearn.model_selection import train_test_split \n",
        "X_train, X_test, y_train, y_test = train_test_split(X,y, test_size = 0.2, random_state = 0) "
      ],
      "execution_count": 8,
      "outputs": []
    },
    {
      "cell_type": "code",
      "metadata": {
        "id": "3dcb7lRi2E5u"
      },
      "source": [
        "# Feature scaling \n",
        "from sklearn.preprocessing import StandardScaler \n",
        "sc = StandardScaler() \n",
        "X_train = sc.fit_transform(X_train)\n",
        "X_test = sc.transform(X_test)"
      ],
      "execution_count": 9,
      "outputs": []
    },
    {
      "cell_type": "code",
      "metadata": {
        "id": "j8EB51z53UOO"
      },
      "source": [
        "# importing the keras libraries \n",
        "import keras \n",
        "from keras.models import Sequential \n",
        "from keras.layers import Dense \n",
        "from keras.layers import LeakyReLU,PReLU, ELU \n",
        "from keras.layers import Dropout "
      ],
      "execution_count": 10,
      "outputs": []
    },
    {
      "cell_type": "code",
      "metadata": {
        "colab": {
          "base_uri": "https://localhost:8080/"
        },
        "id": "JlddZOfHQCU_",
        "outputId": "a05c04d5-eb67-4344-ffd1-392ec536bd87"
      },
      "source": [
        "classifier = Sequential() \n",
        "classifier.add(Dense(units = 6, kernel_initializer = 'he_uniform', activation = 'relu', input_dim = 11))\n",
        "classifier.add(Dense(units = 6, kernel_initializer = 'he_uniform', activation = 'sigmoid')) \n",
        "\n",
        "# additing output layer \n",
        "classifier.add(Dense(units = 1, kernel_initializer = 'glorot_uniform', activation = 'sigmoid'))\n",
        "\n",
        "\n",
        "# compiling the ann \n",
        "classifier.compile(optimizer = 'Adamax', loss = 'binary_crossentropy', metrics = ['accuracy']) \n",
        "\n",
        "# fitting ann to the training set \n",
        "model_history = classifier.fit(X_train,y_train, validation_split = 0.33, batch_size = 10, epochs = 100)"
      ],
      "execution_count": 14,
      "outputs": [
        {
          "output_type": "stream",
          "text": [
            "Epoch 1/100\n",
            "536/536 [==============================] - 7s 3ms/step - loss: 0.8141 - accuracy: 0.3162 - val_loss: 0.5473 - val_accuracy: 0.7955\n",
            "Epoch 2/100\n",
            "536/536 [==============================] - 1s 2ms/step - loss: 0.5262 - accuracy: 0.7920 - val_loss: 0.4943 - val_accuracy: 0.7955\n",
            "Epoch 3/100\n",
            "536/536 [==============================] - 1s 2ms/step - loss: 0.5087 - accuracy: 0.7801 - val_loss: 0.4829 - val_accuracy: 0.7955\n",
            "Epoch 4/100\n",
            "536/536 [==============================] - 1s 2ms/step - loss: 0.4821 - accuracy: 0.7941 - val_loss: 0.4742 - val_accuracy: 0.7955\n",
            "Epoch 5/100\n",
            "536/536 [==============================] - 1s 2ms/step - loss: 0.4621 - accuracy: 0.8008 - val_loss: 0.4675 - val_accuracy: 0.7955\n",
            "Epoch 6/100\n",
            "536/536 [==============================] - 1s 2ms/step - loss: 0.4656 - accuracy: 0.7946 - val_loss: 0.4613 - val_accuracy: 0.7955\n",
            "Epoch 7/100\n",
            "536/536 [==============================] - 1s 2ms/step - loss: 0.4547 - accuracy: 0.7950 - val_loss: 0.4561 - val_accuracy: 0.7955\n",
            "Epoch 8/100\n",
            "536/536 [==============================] - 1s 2ms/step - loss: 0.4456 - accuracy: 0.7991 - val_loss: 0.4521 - val_accuracy: 0.7955\n",
            "Epoch 9/100\n",
            "536/536 [==============================] - 1s 2ms/step - loss: 0.4378 - accuracy: 0.7990 - val_loss: 0.4488 - val_accuracy: 0.7959\n",
            "Epoch 10/100\n",
            "536/536 [==============================] - 1s 2ms/step - loss: 0.4322 - accuracy: 0.8024 - val_loss: 0.4461 - val_accuracy: 0.7986\n",
            "Epoch 11/100\n",
            "536/536 [==============================] - 1s 2ms/step - loss: 0.4266 - accuracy: 0.8055 - val_loss: 0.4440 - val_accuracy: 0.8046\n",
            "Epoch 12/100\n",
            "536/536 [==============================] - 1s 2ms/step - loss: 0.4380 - accuracy: 0.8063 - val_loss: 0.4420 - val_accuracy: 0.8103\n",
            "Epoch 13/100\n",
            "536/536 [==============================] - 1s 2ms/step - loss: 0.4350 - accuracy: 0.8047 - val_loss: 0.4406 - val_accuracy: 0.8103\n",
            "Epoch 14/100\n",
            "536/536 [==============================] - 1s 2ms/step - loss: 0.4262 - accuracy: 0.8084 - val_loss: 0.4392 - val_accuracy: 0.8095\n",
            "Epoch 15/100\n",
            "536/536 [==============================] - 1s 2ms/step - loss: 0.4232 - accuracy: 0.8174 - val_loss: 0.4381 - val_accuracy: 0.8107\n",
            "Epoch 16/100\n",
            "536/536 [==============================] - 1s 2ms/step - loss: 0.4104 - accuracy: 0.8225 - val_loss: 0.4371 - val_accuracy: 0.8122\n",
            "Epoch 17/100\n",
            "536/536 [==============================] - 1s 2ms/step - loss: 0.4247 - accuracy: 0.8138 - val_loss: 0.4362 - val_accuracy: 0.8114\n",
            "Epoch 18/100\n",
            "536/536 [==============================] - 1s 2ms/step - loss: 0.4222 - accuracy: 0.8115 - val_loss: 0.4355 - val_accuracy: 0.8103\n",
            "Epoch 19/100\n",
            "536/536 [==============================] - 1s 2ms/step - loss: 0.4179 - accuracy: 0.8197 - val_loss: 0.4347 - val_accuracy: 0.8084\n",
            "Epoch 20/100\n",
            "536/536 [==============================] - 1s 2ms/step - loss: 0.4232 - accuracy: 0.8179 - val_loss: 0.4339 - val_accuracy: 0.8073\n",
            "Epoch 21/100\n",
            "536/536 [==============================] - 1s 2ms/step - loss: 0.4076 - accuracy: 0.8243 - val_loss: 0.4332 - val_accuracy: 0.8069\n",
            "Epoch 22/100\n",
            "536/536 [==============================] - 1s 2ms/step - loss: 0.4190 - accuracy: 0.8202 - val_loss: 0.4326 - val_accuracy: 0.8069\n",
            "Epoch 23/100\n",
            "536/536 [==============================] - 1s 2ms/step - loss: 0.4154 - accuracy: 0.8184 - val_loss: 0.4319 - val_accuracy: 0.8073\n",
            "Epoch 24/100\n",
            "536/536 [==============================] - 1s 2ms/step - loss: 0.4151 - accuracy: 0.8255 - val_loss: 0.4314 - val_accuracy: 0.8088\n",
            "Epoch 25/100\n",
            "536/536 [==============================] - 1s 2ms/step - loss: 0.4050 - accuracy: 0.8288 - val_loss: 0.4307 - val_accuracy: 0.8088\n",
            "Epoch 26/100\n",
            "536/536 [==============================] - 1s 2ms/step - loss: 0.4212 - accuracy: 0.8174 - val_loss: 0.4301 - val_accuracy: 0.8103\n",
            "Epoch 27/100\n",
            "536/536 [==============================] - 1s 2ms/step - loss: 0.4229 - accuracy: 0.8169 - val_loss: 0.4295 - val_accuracy: 0.8099\n",
            "Epoch 28/100\n",
            "536/536 [==============================] - 1s 2ms/step - loss: 0.4112 - accuracy: 0.8279 - val_loss: 0.4290 - val_accuracy: 0.8114\n",
            "Epoch 29/100\n",
            "536/536 [==============================] - 1s 2ms/step - loss: 0.4032 - accuracy: 0.8223 - val_loss: 0.4284 - val_accuracy: 0.8107\n",
            "Epoch 30/100\n",
            "536/536 [==============================] - 1s 2ms/step - loss: 0.4137 - accuracy: 0.8229 - val_loss: 0.4278 - val_accuracy: 0.8122\n",
            "Epoch 31/100\n",
            "536/536 [==============================] - 1s 2ms/step - loss: 0.4101 - accuracy: 0.8226 - val_loss: 0.4272 - val_accuracy: 0.8133\n",
            "Epoch 32/100\n",
            "536/536 [==============================] - 1s 2ms/step - loss: 0.4117 - accuracy: 0.8262 - val_loss: 0.4267 - val_accuracy: 0.8152\n",
            "Epoch 33/100\n",
            "536/536 [==============================] - 1s 2ms/step - loss: 0.4187 - accuracy: 0.8247 - val_loss: 0.4261 - val_accuracy: 0.8156\n",
            "Epoch 34/100\n",
            "536/536 [==============================] - 1s 2ms/step - loss: 0.4040 - accuracy: 0.8288 - val_loss: 0.4255 - val_accuracy: 0.8164\n",
            "Epoch 35/100\n",
            "536/536 [==============================] - 1s 2ms/step - loss: 0.3983 - accuracy: 0.8319 - val_loss: 0.4249 - val_accuracy: 0.8179\n",
            "Epoch 36/100\n",
            "536/536 [==============================] - 1s 2ms/step - loss: 0.4091 - accuracy: 0.8289 - val_loss: 0.4242 - val_accuracy: 0.8175\n",
            "Epoch 37/100\n",
            "536/536 [==============================] - 1s 2ms/step - loss: 0.4188 - accuracy: 0.8241 - val_loss: 0.4235 - val_accuracy: 0.8171\n",
            "Epoch 38/100\n",
            "536/536 [==============================] - 1s 2ms/step - loss: 0.3982 - accuracy: 0.8302 - val_loss: 0.4227 - val_accuracy: 0.8190\n",
            "Epoch 39/100\n",
            "536/536 [==============================] - 1s 2ms/step - loss: 0.3923 - accuracy: 0.8347 - val_loss: 0.4219 - val_accuracy: 0.8190\n",
            "Epoch 40/100\n",
            "536/536 [==============================] - 1s 2ms/step - loss: 0.3986 - accuracy: 0.8301 - val_loss: 0.4211 - val_accuracy: 0.8190\n",
            "Epoch 41/100\n",
            "536/536 [==============================] - 1s 2ms/step - loss: 0.3997 - accuracy: 0.8349 - val_loss: 0.4203 - val_accuracy: 0.8190\n",
            "Epoch 42/100\n",
            "536/536 [==============================] - 1s 2ms/step - loss: 0.4064 - accuracy: 0.8234 - val_loss: 0.4192 - val_accuracy: 0.8190\n",
            "Epoch 43/100\n",
            "536/536 [==============================] - 1s 2ms/step - loss: 0.4022 - accuracy: 0.8295 - val_loss: 0.4182 - val_accuracy: 0.8198\n",
            "Epoch 44/100\n",
            "536/536 [==============================] - 1s 2ms/step - loss: 0.4096 - accuracy: 0.8201 - val_loss: 0.4171 - val_accuracy: 0.8209\n",
            "Epoch 45/100\n",
            "536/536 [==============================] - 1s 2ms/step - loss: 0.4017 - accuracy: 0.8364 - val_loss: 0.4158 - val_accuracy: 0.8209\n",
            "Epoch 46/100\n",
            "536/536 [==============================] - 1s 2ms/step - loss: 0.4084 - accuracy: 0.8230 - val_loss: 0.4145 - val_accuracy: 0.8209\n",
            "Epoch 47/100\n",
            "536/536 [==============================] - 1s 2ms/step - loss: 0.3974 - accuracy: 0.8294 - val_loss: 0.4131 - val_accuracy: 0.8213\n",
            "Epoch 48/100\n",
            "536/536 [==============================] - 1s 2ms/step - loss: 0.3940 - accuracy: 0.8332 - val_loss: 0.4119 - val_accuracy: 0.8220\n",
            "Epoch 49/100\n",
            "536/536 [==============================] - 1s 2ms/step - loss: 0.4111 - accuracy: 0.8259 - val_loss: 0.4105 - val_accuracy: 0.8220\n",
            "Epoch 50/100\n",
            "536/536 [==============================] - 1s 2ms/step - loss: 0.3951 - accuracy: 0.8329 - val_loss: 0.4089 - val_accuracy: 0.8205\n",
            "Epoch 51/100\n",
            "536/536 [==============================] - 1s 2ms/step - loss: 0.3822 - accuracy: 0.8388 - val_loss: 0.4074 - val_accuracy: 0.8205\n",
            "Epoch 52/100\n",
            "536/536 [==============================] - 1s 2ms/step - loss: 0.3856 - accuracy: 0.8367 - val_loss: 0.4059 - val_accuracy: 0.8217\n",
            "Epoch 53/100\n",
            "536/536 [==============================] - 1s 2ms/step - loss: 0.3935 - accuracy: 0.8364 - val_loss: 0.4042 - val_accuracy: 0.8228\n",
            "Epoch 54/100\n",
            "536/536 [==============================] - 1s 2ms/step - loss: 0.3783 - accuracy: 0.8415 - val_loss: 0.4024 - val_accuracy: 0.8217\n",
            "Epoch 55/100\n",
            "536/536 [==============================] - 1s 2ms/step - loss: 0.3882 - accuracy: 0.8363 - val_loss: 0.4007 - val_accuracy: 0.8232\n",
            "Epoch 56/100\n",
            "536/536 [==============================] - 1s 2ms/step - loss: 0.3888 - accuracy: 0.8386 - val_loss: 0.3990 - val_accuracy: 0.8254\n",
            "Epoch 57/100\n",
            "536/536 [==============================] - 1s 2ms/step - loss: 0.3715 - accuracy: 0.8465 - val_loss: 0.3972 - val_accuracy: 0.8262\n",
            "Epoch 58/100\n",
            "536/536 [==============================] - 1s 2ms/step - loss: 0.3866 - accuracy: 0.8331 - val_loss: 0.3956 - val_accuracy: 0.8277\n",
            "Epoch 59/100\n",
            "536/536 [==============================] - 1s 2ms/step - loss: 0.3750 - accuracy: 0.8441 - val_loss: 0.3940 - val_accuracy: 0.8273\n",
            "Epoch 60/100\n",
            "536/536 [==============================] - 1s 2ms/step - loss: 0.3725 - accuracy: 0.8460 - val_loss: 0.3925 - val_accuracy: 0.8296\n",
            "Epoch 61/100\n",
            "536/536 [==============================] - 1s 2ms/step - loss: 0.3599 - accuracy: 0.8515 - val_loss: 0.3911 - val_accuracy: 0.8300\n",
            "Epoch 62/100\n",
            "536/536 [==============================] - 1s 2ms/step - loss: 0.3789 - accuracy: 0.8426 - val_loss: 0.3897 - val_accuracy: 0.8307\n",
            "Epoch 63/100\n",
            "536/536 [==============================] - 1s 2ms/step - loss: 0.3818 - accuracy: 0.8367 - val_loss: 0.3882 - val_accuracy: 0.8315\n",
            "Epoch 64/100\n",
            "536/536 [==============================] - 1s 2ms/step - loss: 0.3667 - accuracy: 0.8440 - val_loss: 0.3870 - val_accuracy: 0.8307\n",
            "Epoch 65/100\n",
            "536/536 [==============================] - 1s 2ms/step - loss: 0.3744 - accuracy: 0.8492 - val_loss: 0.3856 - val_accuracy: 0.8326\n",
            "Epoch 66/100\n",
            "536/536 [==============================] - 1s 2ms/step - loss: 0.3665 - accuracy: 0.8527 - val_loss: 0.3845 - val_accuracy: 0.8334\n",
            "Epoch 67/100\n",
            "536/536 [==============================] - 1s 2ms/step - loss: 0.3687 - accuracy: 0.8443 - val_loss: 0.3835 - val_accuracy: 0.8342\n",
            "Epoch 68/100\n",
            "536/536 [==============================] - 1s 2ms/step - loss: 0.3633 - accuracy: 0.8476 - val_loss: 0.3824 - val_accuracy: 0.8345\n",
            "Epoch 69/100\n",
            "536/536 [==============================] - 1s 2ms/step - loss: 0.3851 - accuracy: 0.8373 - val_loss: 0.3815 - val_accuracy: 0.8357\n",
            "Epoch 70/100\n",
            "536/536 [==============================] - 1s 2ms/step - loss: 0.3599 - accuracy: 0.8554 - val_loss: 0.3805 - val_accuracy: 0.8360\n",
            "Epoch 71/100\n",
            "536/536 [==============================] - 1s 2ms/step - loss: 0.3638 - accuracy: 0.8505 - val_loss: 0.3796 - val_accuracy: 0.8368\n",
            "Epoch 72/100\n",
            "536/536 [==============================] - 1s 2ms/step - loss: 0.3672 - accuracy: 0.8478 - val_loss: 0.3788 - val_accuracy: 0.8364\n",
            "Epoch 73/100\n",
            "536/536 [==============================] - 1s 2ms/step - loss: 0.3533 - accuracy: 0.8510 - val_loss: 0.3780 - val_accuracy: 0.8372\n",
            "Epoch 74/100\n",
            "536/536 [==============================] - 1s 2ms/step - loss: 0.3621 - accuracy: 0.8533 - val_loss: 0.3772 - val_accuracy: 0.8372\n",
            "Epoch 75/100\n",
            "536/536 [==============================] - 1s 2ms/step - loss: 0.3711 - accuracy: 0.8487 - val_loss: 0.3765 - val_accuracy: 0.8372\n",
            "Epoch 76/100\n",
            "536/536 [==============================] - 1s 2ms/step - loss: 0.3548 - accuracy: 0.8520 - val_loss: 0.3757 - val_accuracy: 0.8376\n",
            "Epoch 77/100\n",
            "536/536 [==============================] - 1s 2ms/step - loss: 0.3551 - accuracy: 0.8595 - val_loss: 0.3752 - val_accuracy: 0.8391\n",
            "Epoch 78/100\n",
            "536/536 [==============================] - 1s 2ms/step - loss: 0.3655 - accuracy: 0.8521 - val_loss: 0.3747 - val_accuracy: 0.8398\n",
            "Epoch 79/100\n",
            "536/536 [==============================] - 1s 2ms/step - loss: 0.3553 - accuracy: 0.8545 - val_loss: 0.3742 - val_accuracy: 0.8376\n",
            "Epoch 80/100\n",
            "536/536 [==============================] - 1s 2ms/step - loss: 0.3549 - accuracy: 0.8498 - val_loss: 0.3736 - val_accuracy: 0.8391\n",
            "Epoch 81/100\n",
            "536/536 [==============================] - 1s 2ms/step - loss: 0.3439 - accuracy: 0.8611 - val_loss: 0.3730 - val_accuracy: 0.8402\n",
            "Epoch 82/100\n",
            "536/536 [==============================] - 1s 2ms/step - loss: 0.3618 - accuracy: 0.8495 - val_loss: 0.3725 - val_accuracy: 0.8406\n",
            "Epoch 83/100\n",
            "536/536 [==============================] - 1s 2ms/step - loss: 0.3687 - accuracy: 0.8470 - val_loss: 0.3721 - val_accuracy: 0.8410\n",
            "Epoch 84/100\n",
            "536/536 [==============================] - 1s 2ms/step - loss: 0.3529 - accuracy: 0.8581 - val_loss: 0.3717 - val_accuracy: 0.8402\n",
            "Epoch 85/100\n",
            "536/536 [==============================] - 1s 2ms/step - loss: 0.3573 - accuracy: 0.8552 - val_loss: 0.3712 - val_accuracy: 0.8413\n",
            "Epoch 86/100\n",
            "536/536 [==============================] - 1s 2ms/step - loss: 0.3409 - accuracy: 0.8644 - val_loss: 0.3709 - val_accuracy: 0.8417\n",
            "Epoch 87/100\n",
            "536/536 [==============================] - 1s 2ms/step - loss: 0.3532 - accuracy: 0.8567 - val_loss: 0.3704 - val_accuracy: 0.8425\n",
            "Epoch 88/100\n",
            "536/536 [==============================] - 1s 2ms/step - loss: 0.3522 - accuracy: 0.8588 - val_loss: 0.3699 - val_accuracy: 0.8425\n",
            "Epoch 89/100\n",
            "536/536 [==============================] - 1s 2ms/step - loss: 0.3566 - accuracy: 0.8537 - val_loss: 0.3696 - val_accuracy: 0.8429\n",
            "Epoch 90/100\n",
            "536/536 [==============================] - 1s 2ms/step - loss: 0.3323 - accuracy: 0.8700 - val_loss: 0.3692 - val_accuracy: 0.8436\n",
            "Epoch 91/100\n",
            "536/536 [==============================] - 1s 2ms/step - loss: 0.3477 - accuracy: 0.8621 - val_loss: 0.3690 - val_accuracy: 0.8440\n",
            "Epoch 92/100\n",
            "536/536 [==============================] - 1s 2ms/step - loss: 0.3520 - accuracy: 0.8593 - val_loss: 0.3686 - val_accuracy: 0.8432\n",
            "Epoch 93/100\n",
            "536/536 [==============================] - 1s 2ms/step - loss: 0.3549 - accuracy: 0.8563 - val_loss: 0.3683 - val_accuracy: 0.8436\n",
            "Epoch 94/100\n",
            "536/536 [==============================] - 1s 2ms/step - loss: 0.3482 - accuracy: 0.8606 - val_loss: 0.3681 - val_accuracy: 0.8432\n",
            "Epoch 95/100\n",
            "536/536 [==============================] - 1s 2ms/step - loss: 0.3400 - accuracy: 0.8676 - val_loss: 0.3677 - val_accuracy: 0.8440\n",
            "Epoch 96/100\n",
            "536/536 [==============================] - 1s 2ms/step - loss: 0.3383 - accuracy: 0.8666 - val_loss: 0.3675 - val_accuracy: 0.8448\n",
            "Epoch 97/100\n",
            "536/536 [==============================] - 1s 2ms/step - loss: 0.3424 - accuracy: 0.8652 - val_loss: 0.3672 - val_accuracy: 0.8448\n",
            "Epoch 98/100\n",
            "536/536 [==============================] - 1s 2ms/step - loss: 0.3434 - accuracy: 0.8601 - val_loss: 0.3670 - val_accuracy: 0.8436\n",
            "Epoch 99/100\n",
            "536/536 [==============================] - 1s 2ms/step - loss: 0.3434 - accuracy: 0.8584 - val_loss: 0.3669 - val_accuracy: 0.8455\n",
            "Epoch 100/100\n",
            "536/536 [==============================] - 1s 2ms/step - loss: 0.3563 - accuracy: 0.8595 - val_loss: 0.3666 - val_accuracy: 0.8448\n"
          ],
          "name": "stdout"
        }
      ]
    },
    {
      "cell_type": "code",
      "metadata": {
        "id": "6LCvRyr77Cgr",
        "colab": {
          "base_uri": "https://localhost:8080/"
        },
        "outputId": "c83a46bc-3460-42d5-9e7a-1f475b55e0f3"
      },
      "source": [
        "#  making the test set rsulsts \n",
        "y_pred = classifier.predict(X_test) \n",
        "y_pred = y_pred>0.5\n",
        "\n",
        "#  making the confusion matrix \n",
        "from sklearn.metrics import  confusion_matrix \n",
        "cm = confusion_matrix(y_test, y_pred)\n",
        "\n",
        "# calculate the accuracy \n",
        "from sklearn.metrics import accuracy_score \n",
        "score = accuracy_score(y_pred, y_test)\n",
        "print(score) "
      ],
      "execution_count": 15,
      "outputs": [
        {
          "output_type": "stream",
          "text": [
            "0.861\n"
          ],
          "name": "stdout"
        }
      ]
    },
    {
      "cell_type": "code",
      "metadata": {
        "id": "HgYS8EQd_SyQ",
        "colab": {
          "base_uri": "https://localhost:8080/"
        },
        "outputId": "0eb66fbf-be09-449e-db79-b6104d875b7e"
      },
      "source": [
        "X_train.shape"
      ],
      "execution_count": 16,
      "outputs": [
        {
          "output_type": "execute_result",
          "data": {
            "text/plain": [
              "(8000, 11)"
            ]
          },
          "metadata": {
            "tags": []
          },
          "execution_count": 16
        }
      ]
    },
    {
      "cell_type": "code",
      "metadata": {
        "id": "XhrymZkO_UK8",
        "colab": {
          "base_uri": "https://localhost:8080/"
        },
        "outputId": "2572d216-c397-4040-d3ed-65244cc6f1df"
      },
      "source": [
        "8000 - (8000 * (33/100))"
      ],
      "execution_count": 17,
      "outputs": [
        {
          "output_type": "execute_result",
          "data": {
            "text/plain": [
              "5360.0"
            ]
          },
          "metadata": {
            "tags": []
          },
          "execution_count": 17
        }
      ]
    },
    {
      "cell_type": "code",
      "metadata": {
        "id": "wtvW9lbI_1cB",
        "colab": {
          "base_uri": "https://localhost:8080/",
          "height": 312
        },
        "outputId": "ca406846-a590-4ce8-82d1-899c0eb370e2"
      },
      "source": [
        "print(model_history.history.keys())\n",
        "# summarize history for accuracy\n",
        "plt.plot(model_history.history['accuracy'])\n",
        "plt.plot(model_history.history['val_accuracy'])\n",
        "plt.title('model accuracy')\n",
        "plt.ylabel('accuracy')\n",
        "plt.xlabel('epoch')\n",
        "plt.legend(['train', 'test'], loc='upper left')\n",
        "plt.show()"
      ],
      "execution_count": 18,
      "outputs": [
        {
          "output_type": "stream",
          "text": [
            "dict_keys(['loss', 'accuracy', 'val_loss', 'val_accuracy'])\n"
          ],
          "name": "stdout"
        },
        {
          "output_type": "display_data",
          "data": {
            "image/png": "[encoded data removed]",
            "text/plain": [
              "<Figure size 432x288 with 1 Axes>"
            ]
          },
          "metadata": {
            "tags": [],
            "needs_background": "light"
          }
        }
      ]
    },
    {
      "cell_type": "code",
      "metadata": {
        "id": "HXpUl7lWE8IJ",
        "colab": {
          "base_uri": "https://localhost:8080/",
          "height": 295
        },
        "outputId": "4976b9ae-cc76-4e35-f832-51242586cb93"
      },
      "source": [
        "# summarize history for loss\n",
        "plt.plot(model_history.history['loss'])\n",
        "plt.plot(model_history.history['val_loss'])\n",
        "plt.title('model loss')\n",
        "plt.ylabel('loss')\n",
        "plt.xlabel('epoch')\n",
        "plt.legend(['train', 'test'], loc='upper left')\n",
        "plt.show()"
      ],
      "execution_count": 19,
      "outputs": [
        {
          "output_type": "display_data",
          "data": {
            "image/png": "[encoded data removed]",
            "text/plain": [
              "<Figure size 432x288 with 1 Axes>"
            ]
          },
          "metadata": {
            "tags": [],
            "needs_background": "light"
          }
        }
      ]
    },
    {
      "cell_type": "code",
      "metadata": {
        "id": "FFzPvbX-FS4J",
        "colab": {
          "base_uri": "https://localhost:8080/"
        },
        "outputId": "84b5e5e9-09cd-4471-ccf6-942c01dd9961"
      },
      "source": [
        "classifier.summary()"
      ],
      "execution_count": 20,
      "outputs": [
        {
          "output_type": "stream",
          "text": [
            "Model: \"sequential_3\"\n",
            "_________________________________________________________________\n",
            "Layer (type)                 Output Shape              Param #   \n",
            "=================================================================\n",
            "dense_7 (Dense)              (None, 6)                 72        \n",
            "_________________________________________________________________\n",
            "dense_8 (Dense)              (None, 6)                 42        \n",
            "_________________________________________________________________\n",
            "dense_9 (Dense)              (None, 1)                 7         \n",
            "=================================================================\n",
            "Total params: 121\n",
            "Trainable params: 121\n",
            "Non-trainable params: 0\n",
            "_________________________________________________________________\n"
          ],
          "name": "stdout"
        }
      ]
    },
    {
      "cell_type": "code",
      "metadata": {
        "id": "cfZys0t9TGWE"
      },
      "source": [
        ""
      ],
      "execution_count": null,
      "outputs": []
    }
  ]
}