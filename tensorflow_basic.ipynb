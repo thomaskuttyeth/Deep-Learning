{
  "nbformat": 4,
  "nbformat_minor": 0,
  "metadata": {
    "colab": {
      "name": "tensorflow_basic.ipynb",
      "provenance": [],
      "collapsed_sections": []
    },
    "kernelspec": {
      "name": "python3",
      "display_name": "Python 3"
    },
    "language_info": {
      "name": "python"
    }
  },
  "cells": [
    {
      "cell_type": "code",
      "metadata": {
        "id": "nBw4k0MEAx84"
      },
      "source": [
        "import tensorflow as tf"
      ],
      "execution_count": 2,
      "outputs": []
    },
    {
      "cell_type": "code",
      "metadata": {
        "colab": {
          "base_uri": "https://localhost:8080/"
        },
        "id": "E6ieKb5ZQHpA",
        "outputId": "00712408-5c53-42b1-9cc2-d18ddc2f9c18"
      },
      "source": [
        "x = tf.constant(4)\n",
        "print(x)"
      ],
      "execution_count": 19,
      "outputs": [
        {
          "output_type": "stream",
          "text": [
            "tf.Tensor(4, shape=(), dtype=int32)\n"
          ],
          "name": "stdout"
        }
      ]
    },
    {
      "cell_type": "code",
      "metadata": {
        "colab": {
          "base_uri": "https://localhost:8080/"
        },
        "id": "_c8JAMriRRPO",
        "outputId": "db33ecaa-84b5-4ecc-bea3-8e8dea892473"
      },
      "source": [
        "x = tf.constant(3,shape = (1,2), dtype = tf.float32)\n",
        "print(x)"
      ],
      "execution_count": 20,
      "outputs": [
        {
          "output_type": "stream",
          "text": [
            "tf.Tensor([[3. 3.]], shape=(1, 2), dtype=float32)\n"
          ],
          "name": "stdout"
        }
      ]
    },
    {
      "cell_type": "code",
      "metadata": {
        "id": "RUo0CXpPRm3g",
        "colab": {
          "base_uri": "https://localhost:8080/"
        },
        "outputId": "8dd4b2ab-cb9b-404b-e29a-a4626acd412e"
      },
      "source": [
        "# from lists \n",
        "x = tf.constant([[1,2,3],[2,3,1]])\n",
        "print(x)"
      ],
      "execution_count": 21,
      "outputs": [
        {
          "output_type": "stream",
          "text": [
            "tf.Tensor(\n",
            "[[1 2 3]\n",
            " [2 3 1]], shape=(2, 3), dtype=int32)\n"
          ],
          "name": "stdout"
        }
      ]
    },
    {
      "cell_type": "code",
      "metadata": {
        "id": "8ksahwJxR9kT",
        "colab": {
          "base_uri": "https://localhost:8080/"
        },
        "outputId": "b1db5daf-d9e9-4e38-ca7c-e2daf3b65c7f"
      },
      "source": [
        "tens = tf.ones((3,3))\n",
        "print(tens)"
      ],
      "execution_count": 22,
      "outputs": [
        {
          "output_type": "stream",
          "text": [
            "tf.Tensor(\n",
            "[[1. 1. 1.]\n",
            " [1. 1. 1.]\n",
            " [1. 1. 1.]], shape=(3, 3), dtype=float32)\n"
          ],
          "name": "stdout"
        }
      ]
    },
    {
      "cell_type": "code",
      "metadata": {
        "colab": {
          "base_uri": "https://localhost:8080/"
        },
        "id": "FBblXeyzU0DM",
        "outputId": "661a6915-f7a5-41b9-92a6-d87bebd6faff"
      },
      "source": [
        "tens = tf.ones((2,4),dtype = 'int32')\n",
        "print(tens)"
      ],
      "execution_count": 23,
      "outputs": [
        {
          "output_type": "stream",
          "text": [
            "tf.Tensor(\n",
            "[[1 1 1 1]\n",
            " [1 1 1 1]], shape=(2, 4), dtype=int32)\n"
          ],
          "name": "stdout"
        }
      ]
    },
    {
      "cell_type": "code",
      "metadata": {
        "colab": {
          "base_uri": "https://localhost:8080/"
        },
        "id": "A3NBbS4_U9yf",
        "outputId": "0ce5458d-3f9b-465a-ceee-97a1d4c01220"
      },
      "source": [
        "# identity tensor \n",
        "eye_tens = tf.eye(5)\n",
        "print(eye_tens)"
      ],
      "execution_count": 24,
      "outputs": [
        {
          "output_type": "stream",
          "text": [
            "tf.Tensor(\n",
            "[[1. 0. 0. 0. 0.]\n",
            " [0. 1. 0. 0. 0.]\n",
            " [0. 0. 1. 0. 0.]\n",
            " [0. 0. 0. 1. 0.]\n",
            " [0. 0. 0. 0. 1.]], shape=(5, 5), dtype=float32)\n"
          ],
          "name": "stdout"
        }
      ]
    },
    {
      "cell_type": "code",
      "metadata": {
        "colab": {
          "base_uri": "https://localhost:8080/"
        },
        "id": "m7x-qXd3Vurm",
        "outputId": "1bffc745-a274-451d-a4d8-d2e998eb0a91"
      },
      "source": [
        "x = tf.random.normal((3,2),mean = 0, stddev = 1)\n",
        "print(x)"
      ],
      "execution_count": 25,
      "outputs": [
        {
          "output_type": "stream",
          "text": [
            "tf.Tensor(\n",
            "[[-0.30548912  0.55104655]\n",
            " [-1.8291519  -0.10373098]\n",
            " [-0.19354954 -0.16960748]], shape=(3, 2), dtype=float32)\n"
          ],
          "name": "stdout"
        }
      ]
    },
    {
      "cell_type": "code",
      "metadata": {
        "colab": {
          "base_uri": "https://localhost:8080/"
        },
        "id": "YuaFiQwKnUuE",
        "outputId": "7fc0697b-4d5c-4585-c67e-20b535523153"
      },
      "source": [
        "x = tf.random.uniform((4,1) , minval = 0, maxval = 9)\n",
        "print(x)"
      ],
      "execution_count": 26,
      "outputs": [
        {
          "output_type": "stream",
          "text": [
            "tf.Tensor(\n",
            "[[8.448562 ]\n",
            " [1.9103261]\n",
            " [5.9037824]\n",
            " [7.881711 ]], shape=(4, 1), dtype=float32)\n"
          ],
          "name": "stdout"
        }
      ]
    },
    {
      "cell_type": "code",
      "metadata": {
        "colab": {
          "base_uri": "https://localhost:8080/"
        },
        "id": "TQU0OoIenbgi",
        "outputId": "6438d055-25d8-4a7f-faca-06a1e8608f09"
      },
      "source": [
        "x = tf.range(10)\n",
        "print(x)"
      ],
      "execution_count": 27,
      "outputs": [
        {
          "output_type": "stream",
          "text": [
            "tf.Tensor([0 1 2 3 4 5 6 7 8 9], shape=(10,), dtype=int32)\n"
          ],
          "name": "stdout"
        }
      ]
    },
    {
      "cell_type": "code",
      "metadata": {
        "id": "1TFcjOq6nflS",
        "colab": {
          "base_uri": "https://localhost:8080/"
        },
        "outputId": "d1477ea2-aff9-430a-fd7d-6988679177db"
      },
      "source": [
        "# casting \n",
        "c = tf.cast(x,dtype = tf.float32)\n",
        "print(c)"
      ],
      "execution_count": 28,
      "outputs": [
        {
          "output_type": "stream",
          "text": [
            "tf.Tensor([0. 1. 2. 3. 4. 5. 6. 7. 8. 9.], shape=(10,), dtype=float32)\n"
          ],
          "name": "stdout"
        }
      ]
    },
    {
      "cell_type": "markdown",
      "metadata": {
        "id": "7Q4-Z80H2I1h"
      },
      "source": [
        "## **Tensor Operations**"
      ]
    },
    {
      "cell_type": "code",
      "metadata": {
        "id": "1n6yPSscrEtZ",
        "colab": {
          "base_uri": "https://localhost:8080/"
        },
        "outputId": "cb45b0c8-7fc4-48b2-b4aa-c8737e53718a"
      },
      "source": [
        "# element wise operations \n",
        "x = tf.constant([1,2,3])\n",
        "y = tf.constant([2,3,4])\n",
        "z = tf.add(x,y)\n",
        "print(z)"
      ],
      "execution_count": 29,
      "outputs": [
        {
          "output_type": "stream",
          "text": [
            "tf.Tensor([3 5 7], shape=(3,), dtype=int32)\n"
          ],
          "name": "stdout"
        }
      ]
    },
    {
      "cell_type": "code",
      "metadata": {
        "colab": {
          "base_uri": "https://localhost:8080/"
        },
        "id": "iYWNFTv2tHbe",
        "outputId": "45231538-2b27-42b9-f3fc-555e200b8a0c"
      },
      "source": [
        "f = tf.subtract(x,y)\n",
        "print(f)"
      ],
      "execution_count": 31,
      "outputs": [
        {
          "output_type": "stream",
          "text": [
            "tf.Tensor([-1 -1 -1], shape=(3,), dtype=int32)\n"
          ],
          "name": "stdout"
        }
      ]
    },
    {
      "cell_type": "code",
      "metadata": {
        "colab": {
          "base_uri": "https://localhost:8080/"
        },
        "id": "C9UgflH1tpNm",
        "outputId": "9ccbbdc0-58eb-4530-ca7f-4d07571854b7"
      },
      "source": [
        "f = tf.divide(x,y)\n",
        "print(f)"
      ],
      "execution_count": 32,
      "outputs": [
        {
          "output_type": "stream",
          "text": [
            "tf.Tensor([0.5        0.66666667 0.75      ], shape=(3,), dtype=float64)\n"
          ],
          "name": "stdout"
        }
      ]
    },
    {
      "cell_type": "code",
      "metadata": {
        "colab": {
          "base_uri": "https://localhost:8080/"
        },
        "id": "HJ22zjCGt0J4",
        "outputId": "31685869-f818-4cc4-e3ce-502bf38424e1"
      },
      "source": [
        "m = tf.multiply(x,y)\n",
        "print(m)"
      ],
      "execution_count": 34,
      "outputs": [
        {
          "output_type": "stream",
          "text": [
            "tf.Tensor([ 2  6 12], shape=(3,), dtype=int32)\n"
          ],
          "name": "stdout"
        }
      ]
    },
    {
      "cell_type": "code",
      "metadata": {
        "colab": {
          "base_uri": "https://localhost:8080/"
        },
        "id": "nwihj0QNt2_H",
        "outputId": "c93d8858-5cbe-47d9-f229-e34efbd7afb8"
      },
      "source": [
        "d = tf.tensordot(x,y,axes = 1)\n",
        "print(d)"
      ],
      "execution_count": 36,
      "outputs": [
        {
          "output_type": "stream",
          "text": [
            "tf.Tensor(20, shape=(), dtype=int32)\n"
          ],
          "name": "stdout"
        }
      ]
    },
    {
      "cell_type": "code",
      "metadata": {
        "colab": {
          "base_uri": "https://localhost:8080/"
        },
        "id": "KI3UJPCIt8yQ",
        "outputId": "9ce9727b-fc09-490e-86e4-3dd5c2edcf39"
      },
      "source": [
        "# multiplication with a constant \n",
        "print(m*2)"
      ],
      "execution_count": 41,
      "outputs": [
        {
          "output_type": "stream",
          "text": [
            "tf.Tensor([ 4 12 24], shape=(3,), dtype=int32)\n"
          ],
          "name": "stdout"
        }
      ]
    },
    {
      "cell_type": "code",
      "metadata": {
        "colab": {
          "base_uri": "https://localhost:8080/"
        },
        "id": "MXu1SLPbxksc",
        "outputId": "299f4c88-809f-4a27-d468-b813be9e720d"
      },
      "source": [
        "tens1 = tf.random.normal((2,3))\n",
        "tens2 = tf.random.normal((3,4))\n",
        "z = tf.matmul(tens1,tens2)\n",
        "print(z)"
      ],
      "execution_count": 43,
      "outputs": [
        {
          "output_type": "stream",
          "text": [
            "tf.Tensor(\n",
            "[[ 0.66234875 -1.9203576  -1.6642896   0.18335585]\n",
            " [ 0.47399813 -2.324844   -1.4024776  -1.042882  ]], shape=(2, 4), dtype=float32)\n"
          ],
          "name": "stdout"
        }
      ]
    },
    {
      "cell_type": "markdown",
      "metadata": {
        "id": "yrb7i30u2XA2"
      },
      "source": [
        "## **Indexing and slicing**"
      ]
    },
    {
      "cell_type": "code",
      "metadata": {
        "colab": {
          "base_uri": "https://localhost:8080/"
        },
        "id": "OJN8EaWhyehu",
        "outputId": "9780a3a7-5b3e-45a7-ad0c-85710e570822"
      },
      "source": [
        "# slicing and indexing \n",
        "t1 = tf.constant([[1,2,3,4],[3,4,5,2],[2,3,4,5]]) \n",
        "print(t1)"
      ],
      "execution_count": 52,
      "outputs": [
        {
          "output_type": "stream",
          "text": [
            "tf.Tensor(\n",
            "[[1 2 3 4]\n",
            " [3 4 5 2]\n",
            " [2 3 4 5]], shape=(3, 4), dtype=int32)\n"
          ],
          "name": "stdout"
        }
      ]
    },
    {
      "cell_type": "code",
      "metadata": {
        "colab": {
          "base_uri": "https://localhost:8080/"
        },
        "id": "a5edSzWky6dc",
        "outputId": "fe304243-8da5-4109-8dee-4c76b1c8f2eb"
      },
      "source": [
        "# slicing and indexing are similar to numpy array \n",
        "print(t1[0,0])\n",
        "print(t1[0:2,1:])"
      ],
      "execution_count": 56,
      "outputs": [
        {
          "output_type": "stream",
          "text": [
            "tf.Tensor(1, shape=(), dtype=int32)\n",
            "tf.Tensor(\n",
            "[[2 3 4]\n",
            " [4 5 2]], shape=(2, 3), dtype=int32)\n"
          ],
          "name": "stdout"
        }
      ]
    },
    {
      "cell_type": "code",
      "metadata": {
        "colab": {
          "base_uri": "https://localhost:8080/"
        },
        "id": "ca91wArd0sWy",
        "outputId": "a75211aa-0070-43cf-f92f-ddeb3c2fb608"
      },
      "source": [
        "# reshaping a tensor \n",
        "x = tf.random.normal((2,3))\n",
        "print(x)"
      ],
      "execution_count": 58,
      "outputs": [
        {
          "output_type": "stream",
          "text": [
            "tf.Tensor(\n",
            "[[ 0.8509728  -0.33786702 -0.15177879]\n",
            " [-0.2565188   0.766852    1.6029624 ]], shape=(2, 3), dtype=float32)\n"
          ],
          "name": "stdout"
        }
      ]
    },
    {
      "cell_type": "code",
      "metadata": {
        "colab": {
          "base_uri": "https://localhost:8080/"
        },
        "id": "c9RHqVKU2_HR",
        "outputId": "cf887e18-d484-4cee-ce7b-d1b3adc1ec4b"
      },
      "source": [
        "new_x = tf.reshape(x,(3,2))\n",
        "print(new_x)"
      ],
      "execution_count": 60,
      "outputs": [
        {
          "output_type": "stream",
          "text": [
            "tf.Tensor(\n",
            "[[ 0.8509728  -0.33786702]\n",
            " [-0.15177879 -0.2565188 ]\n",
            " [ 0.766852    1.6029624 ]], shape=(3, 2), dtype=float32)\n"
          ],
          "name": "stdout"
        }
      ]
    },
    {
      "cell_type": "code",
      "metadata": {
        "id": "Cc-pfTU23GIA"
      },
      "source": [
        "# tensor is a kind of numpy array.\n",
        "# we can convert tensor to numpy array and vice versa"
      ],
      "execution_count": 61,
      "outputs": []
    },
    {
      "cell_type": "code",
      "metadata": {
        "colab": {
          "base_uri": "https://localhost:8080/"
        },
        "id": "xFGKI-Pf3omY",
        "outputId": "2bb817bd-a904-4301-8d47-1ba3f2e69633"
      },
      "source": [
        "x_numpy = new_x.numpy()\n",
        "print(x_numpy)\n",
        "print(type(x_numpy))"
      ],
      "execution_count": 62,
      "outputs": [
        {
          "output_type": "stream",
          "text": [
            "[[ 0.8509728  -0.33786702]\n",
            " [-0.15177879 -0.2565188 ]\n",
            " [ 0.766852    1.6029624 ]]\n",
            "<class 'numpy.ndarray'>\n"
          ],
          "name": "stdout"
        }
      ]
    },
    {
      "cell_type": "code",
      "metadata": {
        "colab": {
          "base_uri": "https://localhost:8080/"
        },
        "id": "MKxSJPfW3xDK",
        "outputId": "2a902820-6f1f-41c5-9149-97da7f7fa3d8"
      },
      "source": [
        "x_numpy = tf.convert_to_tensor(x_numpy)\n",
        "print(type(x_numpy))"
      ],
      "execution_count": 63,
      "outputs": [
        {
          "output_type": "stream",
          "text": [
            "<class 'tensorflow.python.framework.ops.EagerTensor'>\n"
          ],
          "name": "stdout"
        }
      ]
    },
    {
      "cell_type": "code",
      "metadata": {
        "colab": {
          "base_uri": "https://localhost:8080/"
        },
        "id": "M33pICOC34wI",
        "outputId": "3eaec545-ce49-460e-ad18-f23e3b91d057"
      },
      "source": [
        "# getting a string tensor \n",
        "str_tens = tf.constant(['thomas','merin','joseph'])\n",
        "print(str_tens)"
      ],
      "execution_count": 3,
      "outputs": [
        {
          "output_type": "stream",
          "text": [
            "tf.Tensor([b'thomas' b'merin' b'joseph'], shape=(3,), dtype=string)\n"
          ],
          "name": "stdout"
        }
      ]
    },
    {
      "cell_type": "code",
      "metadata": {
        "colab": {
          "base_uri": "https://localhost:8080/"
        },
        "id": "y2Bt8kn3bGnf",
        "outputId": "4cffaa9a-e760-4a19-8c9e-a2a5a837d932"
      },
      "source": [
        "# variable tensor \n",
        "x = tf.Variable([1,2,3])\n",
        "print(x)"
      ],
      "execution_count": 4,
      "outputs": [
        {
          "output_type": "stream",
          "text": [
            "<tf.Variable 'Variable:0' shape=(3,) dtype=int32, numpy=array([1, 2, 3], dtype=int32)>\n"
          ],
          "name": "stdout"
        }
      ]
    },
    {
      "cell_type": "code",
      "metadata": {
        "id": "GteD5dotbXgt"
      },
      "source": [
        ""
      ],
      "execution_count": null,
      "outputs": []
    }
  ]
}