{
  "cells": [
    {
      "cell_type": "code",
      "execution_count": 1,
      "metadata": {
        "id": "IyFZnJyLfbjg"
      },
      "outputs": [],
      "source": [
        "# importing libraries \n",
        "import tensorflow as tf \n",
        "from tensorflow import keras \n",
        "import numpy as np \n",
        "import matplotlib.pyplot as plt "
      ]
    },
    {
      "cell_type": "code",
      "execution_count": 2,
      "metadata": {
        "id": "nF-MogtXgpao"
      },
      "outputs": [],
      "source": [
        "# hand written digits datasets \n",
        "mnist = keras.datasets.mnist "
      ]
    },
    {
      "cell_type": "code",
      "execution_count": 3,
      "metadata": {
        "colab": {
          "base_uri": "https://localhost:8080/"
        },
        "id": "DolFHkTSgyWY",
        "outputId": "519a197a-92b2-4b36-c63f-f5f853d07e04"
      },
      "outputs": [
        {
          "name": "stdout",
          "output_type": "stream",
          "text": [
            "Downloading data from https://storage.googleapis.com/tensorflow/tf-keras-datasets/mnist.npz\n",
            "11493376/11490434 [==============================] - 0s 0us/step\n",
            "(60000, 28, 28) (60000,)\n"
          ]
        }
      ],
      "source": [
        "(x_train,y_train), (x_test,y_test)  = mnist.load_data()\n",
        "print(x_train.shape,y_train.shape)"
      ]
    },
    {
      "cell_type": "code",
      "execution_count": 4,
      "metadata": {
        "id": "5sAbFqxFg88p"
      },
      "outputs": [],
      "source": [
        "x_train, x_test = x_train/255.0, x_test/255.0 "
      ]
    },
    {
      "cell_type": "code",
      "execution_count": 5,
      "metadata": {
        "colab": {
          "base_uri": "https://localhost:8080/",
          "height": 267
        },
        "id": "1OnOD_X3hPoS",
        "outputId": "0a6a1279-1a1a-4c23-f9cd-1c31f8701fad"
      },
      "outputs": [
        {
          "data": {
            "image/png": "[encoded data removed]",
            "text/plain": [
              "<Figure size 432x288 with 6 Axes>"
            ]
          },
          "metadata": {
            "needs_background": "light",
            "tags": []
          },
          "output_type": "display_data"
        }
      ],
      "source": [
        "for i in range(6):\n",
        "    plt.subplot(2,3,i+1)\n",
        "    plt.imshow(x_train[i], cmap = 'gray')\n",
        "plt.show()"
      ]
    },
    {
      "cell_type": "code",
      "execution_count": 8,
      "metadata": {
        "colab": {
          "base_uri": "https://localhost:8080/"
        },
        "id": "1IOiRut9hcuJ",
        "outputId": "46257fc7-d8c6-4f6c-85fa-6ef956b3e217"
      },
      "outputs": [
        {
          "name": "stdout",
          "output_type": "stream",
          "text": [
            "Model: \"sequential\"\n",
            "_________________________________________________________________\n",
            "Layer (type)                 Output Shape              Param #   \n",
            "=================================================================\n",
            "flatten (Flatten)            (None, 784)               0         \n",
            "_________________________________________________________________\n",
            "dense (Dense)                (None, 128)               100480    \n",
            "_________________________________________________________________\n",
            "dense_1 (Dense)              (None, 10)                1290      \n",
            "=================================================================\n",
            "Total params: 101,770\n",
            "Trainable params: 101,770\n",
            "Non-trainable params: 0\n",
            "_________________________________________________________________\n",
            "None\n"
          ]
        }
      ],
      "source": [
        "# building the model \n",
        "# we use sequential api \n",
        "\n",
        "model = keras.models.Sequential([\n",
        "    keras.layers.Flatten(input_shape = (28,28)), \n",
        "    keras.layers.Dense(128, activation= 'relu'),\n",
        "    keras.layers.Dense(10),\n",
        "])\n",
        "\n",
        "print(model.summary())  "
      ]
    },
    {
      "cell_type": "code",
      "execution_count": 9,
      "metadata": {
        "id": "1DBSR13EimRW"
      },
      "outputs": [],
      "source": [
        "# model = keras.Sequential() \n",
        "# model.add(keras.layers.Flatten(input_shape = (28,28)))\n",
        "# model.add(keras.layers.Dense(128, activation = 'relu'))\n",
        "# model.add(keras.layers.Dense(10))"
      ]
    },
    {
      "cell_type": "code",
      "execution_count": 10,
      "metadata": {
        "id": "WZ6CkaLGjrnQ"
      },
      "outputs": [],
      "source": [
        "loss = keras.losses.SparseCategoricalCrossentropy(from_logits=True)\n",
        "optim = keras.optimizers.Adam(lr = 0.001) # important hyperparameter\n",
        "metrics = [\"accuracy\"]\n",
        "\n",
        "model.compile(loss = loss, optimizer = optim, metrics = metrics)"
      ]
    },
    {
      "cell_type": "code",
      "execution_count": 11,
      "metadata": {
        "colab": {
          "base_uri": "https://localhost:8080/"
        },
        "id": "Vng8iw2fkPjM",
        "outputId": "26d5fec5-69e1-48e0-e7a7-7f44c125851b"
      },
      "outputs": [
        {
          "name": "stdout",
          "output_type": "stream",
          "text": [
            "Epoch 1/5\n",
            "938/938 - 2s - loss: 0.2926 - accuracy: 0.9171\n",
            "Epoch 2/5\n",
            "938/938 - 2s - loss: 0.1311 - accuracy: 0.9620\n",
            "Epoch 3/5\n",
            "938/938 - 2s - loss: 0.0912 - accuracy: 0.9729\n",
            "Epoch 4/5\n",
            "938/938 - 2s - loss: 0.0711 - accuracy: 0.9783\n",
            "Epoch 5/5\n",
            "938/938 - 2s - loss: 0.0557 - accuracy: 0.9834\n"
          ]
        },
        {
          "data": {
            "text/plain": [
              "<tensorflow.python.keras.callbacks.History at 0x7fa26b16bf50>"
            ]
          },
          "execution_count": 11,
          "metadata": {
            "tags": []
          },
          "output_type": "execute_result"
        }
      ],
      "source": [
        "batch_size = 64 \n",
        "epochs = 5 \n",
        "# fitting the model \n",
        "model.fit(x_train,y_train, batch_size = batch_size, epochs  = epochs , shuffle = True, verbose = 2)\n"
      ]
    },
    {
      "cell_type": "code",
      "execution_count": 12,
      "metadata": {
        "colab": {
          "base_uri": "https://localhost:8080/"
        },
        "id": "e1WmsdEMklkv",
        "outputId": "547a68a3-6c0d-4ad2-809b-ce93e3b3824e"
      },
      "outputs": [
        {
          "name": "stdout",
          "output_type": "stream",
          "text": [
            "157/157 - 0s - loss: 0.0769 - accuracy: 0.9762\n"
          ]
        },
        {
          "data": {
            "text/plain": [
              "[0.07685482501983643, 0.9761999845504761]"
            ]
          },
          "execution_count": 12,
          "metadata": {
            "tags": []
          },
          "output_type": "execute_result"
        }
      ],
      "source": [
        "# model evaluation \n",
        "model.evaluate(x_test, y_test, batch_size = batch_size, verbose = 2)\n"
      ]
    },
    {
      "cell_type": "code",
      "execution_count": 15,
      "metadata": {
        "colab": {
          "base_uri": "https://localhost:8080/"
        },
        "id": "nVrCqaVqk9cq",
        "outputId": "7e2f98d0-065d-47fc-9ec1-b4a3367bf39f"
      },
      "outputs": [
        {
          "name": "stdout",
          "output_type": "stream",
          "text": [
            "tf.Tensor(\n",
            "[4.5450787e-07 1.5022188e-08 6.1643118e-04 4.4459428e-04 1.3246916e-09\n",
            " 3.4266807e-06 6.1764566e-11 9.9888200e-01 7.1640402e-06 4.5878965e-05], shape=(10,), dtype=float32)\n",
            "7\n"
          ]
        }
      ],
      "source": [
        "# predictions \n",
        "probability_model  = keras.models.Sequential([\n",
        "  model,\n",
        "  keras.layers.Softmax()  \n",
        "])\n",
        "\n",
        "predictions = probability_model(x_test)\n",
        "pred0 = predictions[0]\n",
        "print(pred0)\n",
        "labels0 = np.argmax(pred0)\n",
        "print(labels0)"
      ]
    },
    {
      "cell_type": "code",
      "execution_count": 16,
      "metadata": {
        "colab": {
          "base_uri": "https://localhost:8080/"
        },
        "id": "Eanl8xtAl926",
        "outputId": "e7f890a1-8a83-4a91-f906-4bb027f138de"
      },
      "outputs": [
        {
          "name": "stdout",
          "output_type": "stream",
          "text": [
            "tf.Tensor(\n",
            "[4.5450787e-07 1.5022188e-08 6.1643118e-04 4.4459428e-04 1.3246916e-09\n",
            " 3.4266807e-06 6.1764566e-11 9.9888200e-01 7.1640402e-06 4.5878965e-05], shape=(10,), dtype=float32)\n",
            "7\n"
          ]
        }
      ],
      "source": [
        "# using original model with the softmax \n",
        "predictions  = model(x_test)\n",
        "predictions = tf.nn.softmax(predictions)\n",
        "print(pred0)\n",
        "labels0 = np.argmax(pred0)\n",
        "print(labels0)"
      ]
    },
    {
      "cell_type": "code",
      "execution_count": 18,
      "metadata": {
        "colab": {
          "base_uri": "https://localhost:8080/"
        },
        "id": "Ejzn8hU1mVY3",
        "outputId": "35da25f9-f736-425b-a60e-4ddd6ed21475"
      },
      "outputs": [
        {
          "name": "stdout",
          "output_type": "stream",
          "text": [
            "(5, 10)\n",
            "[7 2 1 0 4]\n"
          ]
        }
      ],
      "source": [
        "# other way of predictions \n",
        "predictions = model.predict(x_test, batch_size = batch_size)\n",
        "predictions  = tf.nn.softmax(predictions)\n",
        "pred5 = predictions[0:5]\n",
        "print(pred5.shape)\n",
        "labels5 = np.argmax(pred5,axis = 1)\n",
        "print(labels5)"
      ]
    },
    {
      "cell_type": "markdown",
      "metadata": {},
      "source": [
        "Credits = python_engineer \n",
        "https://youtu.be/LwM7xabuiIc"
      ]
    }
  ],
  "metadata": {
    "colab": {
      "name": "Neural_network_digits_classification.ipynb",
      "provenance": []
    },
    "kernelspec": {
      "display_name": "Python 3.8.3 64-bit ('base': conda)",
      "name": "python383jvsc74a57bd0deb510cefc833cdbdaae2fafd1a84903dc82918185085651130eeea72f673024"
    },
    "language_info": {
      "name": "python",
      "version": ""
    }
  },
  "nbformat": 4,
  "nbformat_minor": 0
}