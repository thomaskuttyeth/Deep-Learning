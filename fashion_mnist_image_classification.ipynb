{
  "nbformat": 4,
  "nbformat_minor": 0,
  "metadata": {
    "colab": {
      "name": "fashion_mnist image classification.ipynb",
      "provenance": [],
      "collapsed_sections": []
    },
    "kernelspec": {
      "name": "python3",
      "display_name": "Python 3"
    },
    "language_info": {
      "name": "python"
    },
    "accelerator": "GPU"
  },
  "cells": [
    {
      "cell_type": "code",
      "metadata": {
        "id": "yNXYKt-UE0O1"
      },
      "source": [
        "# importing keras and tensorflow\n",
        "import tensorflow as tf \n",
        "from tensorflow import keras"
      ],
      "execution_count": null,
      "outputs": []
    },
    {
      "cell_type": "code",
      "metadata": {
        "colab": {
          "base_uri": "https://localhost:8080/"
        },
        "id": "nDAxFdpCE-NC",
        "outputId": "bc028629-2a7d-4c2b-bd06-56a924c25ec2"
      },
      "source": [
        "# getting the tensorflow and keras version \n",
        "print('tensorflow version =',tf.__version__)\n",
        "print('keras version[tf]', keras.__version__)"
      ],
      "execution_count": null,
      "outputs": [
        {
          "output_type": "stream",
          "text": [
            "tensorflow version = 2.5.0\n",
            "keras version[tf] 2.5.0\n"
          ],
          "name": "stdout"
        }
      ]
    },
    {
      "cell_type": "code",
      "metadata": {
        "id": "WEabR5mVFKQC"
      },
      "source": [
        "# loading the dataset \n",
        "fashion_mnist = keras.datasets.fashion_mnist\n",
        "(X_train_full, y_train_full),(X_test,y_test) = fashion_mnist.load_data()"
      ],
      "execution_count": null,
      "outputs": []
    },
    {
      "cell_type": "code",
      "metadata": {
        "colab": {
          "base_uri": "https://localhost:8080/"
        },
        "id": "TO7141CtFYnC",
        "outputId": "d0b3cc34-081b-4cdb-980c-144d7a7abfea"
      },
      "source": [
        "# size of the dataset\n",
        "X_train_full.shape"
      ],
      "execution_count": null,
      "outputs": [
        {
          "output_type": "execute_result",
          "data": {
            "text/plain": [
              "(60000, 28, 28)"
            ]
          },
          "metadata": {
            "tags": []
          },
          "execution_count": 4
        }
      ]
    },
    {
      "cell_type": "code",
      "metadata": {
        "id": "fhpEhGw9Fdpy"
      },
      "source": [
        "# feature scaling \n",
        "X_valid,X_train = X_train_full[:5000]/255.0, X_train_full[5000:]/255.0\n",
        "y_valid,y_train = y_train_full[:5000]/255.0, y_train_full[5000:]/255.0"
      ],
      "execution_count": null,
      "outputs": []
    },
    {
      "cell_type": "code",
      "metadata": {
        "id": "PGcKESVbGdNG"
      },
      "source": [
        "class_names = [\"T-shirt/top\", \"Trouser\", \"Pullover\", \"Dress\", \"Coat\",\n",
        "\"Sandal\", \"Shirt\", \"Sneaker\", \"Bag\", \"Ankle boot\"]"
      ],
      "execution_count": null,
      "outputs": []
    },
    {
      "cell_type": "code",
      "metadata": {
        "colab": {
          "base_uri": "https://localhost:8080/"
        },
        "id": "MMhTXzDgHDVI",
        "outputId": "797d3023-0582-4988-d6df-c04678ea513b"
      },
      "source": [
        "y_train_full"
      ],
      "execution_count": null,
      "outputs": [
        {
          "output_type": "execute_result",
          "data": {
            "text/plain": [
              "array([9, 0, 0, ..., 3, 0, 5], dtype=uint8)"
            ]
          },
          "metadata": {
            "tags": []
          },
          "execution_count": 22
        }
      ]
    },
    {
      "cell_type": "code",
      "metadata": {
        "id": "ILK_Mq56HGs-"
      },
      "source": [
        "# creating the model using sequential api \n",
        "model = keras.models.Sequential()\n",
        "model.add(keras.layers.Flatten(input_shape=[28,28]))\n",
        "model.add(keras.layers.Dense(300,activation = 'relu'))\n",
        "model.add(keras.layers.Dense(100,activation = 'relu'))\n",
        "model.add(keras.layers.Dense(10,activation = 'softmax'))"
      ],
      "execution_count": null,
      "outputs": []
    },
    {
      "cell_type": "markdown",
      "metadata": {
        "id": "RwJsJHkyLD2w"
      },
      "source": [
        "## Flatten layer\n",
        "Role is simply to convert each input image into a 1D array: if it receives input data\n",
        "X , it computes X.reshape(-1, 1) . This layer does not have any parameters, it is\n",
        "just there to do some simple preprocessing"
      ]
    },
    {
      "cell_type": "code",
      "metadata": {
        "id": "GfTnqAjpJ88f"
      },
      "source": [
        "# another way of defining model \n",
        "model_2 = keras.models.Sequential([\n",
        "    keras.layers.Flatten(input_shape = [28,28]),\n",
        "    keras.layers.Dense(300, activation = 'relu'), \n",
        "    keras.layers.Dense(100, activation = 'relu'),\n",
        "    keras.layers.Dense(10,activation = 'softmax')\n",
        "])"
      ],
      "execution_count": null,
      "outputs": []
    },
    {
      "cell_type": "markdown",
      "metadata": {
        "id": "FqQB3z7_MwVz"
      },
      "source": [
        "### Model Summary \n",
        "The model’s summary() method displays all the model’s layers 13 , including each layer’s\n",
        "name (which is automatically generated unless you set it when creating the layer), its\n",
        "output shape ( None means the batch size can be anything), and its number of parame‐\n",
        "ters. The summary ends with the total number of parameters, including trainable and\n",
        "non-trainable parameters."
      ]
    },
    {
      "cell_type": "code",
      "metadata": {
        "colab": {
          "base_uri": "https://localhost:8080/"
        },
        "id": "TT2f-rQdL20r",
        "outputId": "4be833dd-4530-484c-9875-21e0b15253a4"
      },
      "source": [
        "model.summary()"
      ],
      "execution_count": null,
      "outputs": [
        {
          "output_type": "stream",
          "text": [
            "Model: \"sequential\"\n",
            "_________________________________________________________________\n",
            "Layer (type)                 Output Shape              Param #   \n",
            "=================================================================\n",
            "flatten (Flatten)            (None, 784)               0         \n",
            "_________________________________________________________________\n",
            "dense (Dense)                (None, 300)               235500    \n",
            "_________________________________________________________________\n",
            "dense_1 (Dense)              (None, 100)               30100     \n",
            "_________________________________________________________________\n",
            "dense_2 (Dense)              (None, 10)                1010      \n",
            "=================================================================\n",
            "Total params: 266,610\n",
            "Trainable params: 266,610\n",
            "Non-trainable params: 0\n",
            "_________________________________________________________________\n"
          ],
          "name": "stdout"
        }
      ]
    },
    {
      "cell_type": "markdown",
      "metadata": {
        "id": "3vYfLb26M_UV"
      },
      "source": [
        "### Parameters\n",
        "Note that Dense layers often have a lot of parameters. For example, the first hidden\n",
        "layer has 784 × 300 connection weights, plus 300 bias terms, which adds up to\n",
        "235,500 parameters! This gives the model quite a lot of flexibility to fit the training\n",
        "data, but it also means that the model runs the risk of overfitting, especially when you\n",
        "do not have a lot of training data."
      ]
    },
    {
      "cell_type": "code",
      "metadata": {
        "colab": {
          "base_uri": "https://localhost:8080/"
        },
        "id": "btGedQ-fM2sV",
        "outputId": "609992cc-51f1-48ba-8160-40af3d8ca010"
      },
      "source": [
        "# getting model layers information \n",
        "model.layers"
      ],
      "execution_count": null,
      "outputs": [
        {
          "output_type": "execute_result",
          "data": {
            "text/plain": [
              "[<tensorflow.python.keras.layers.core.Flatten at 0x7f7e857f92d0>,\n",
              " <tensorflow.python.keras.layers.core.Dense at 0x7f7e85800c50>,\n",
              " <tensorflow.python.keras.layers.core.Dense at 0x7f7e3d84b5d0>,\n",
              " <tensorflow.python.keras.layers.core.Dense at 0x7f7e300af890>]"
            ]
          },
          "metadata": {
            "tags": []
          },
          "execution_count": 10
        }
      ]
    },
    {
      "cell_type": "code",
      "metadata": {
        "colab": {
          "base_uri": "https://localhost:8080/"
        },
        "id": "CCBAxalmNWN8",
        "outputId": "2d92b10c-6d86-4e34-98f3-9fb746f40b1c"
      },
      "source": [
        "for  i in range(len(model.layers)):\n",
        "    print(model.layers[i].name)"
      ],
      "execution_count": null,
      "outputs": [
        {
          "output_type": "stream",
          "text": [
            "flatten\n",
            "dense\n",
            "dense_1\n",
            "dense_2\n"
          ],
          "name": "stdout"
        }
      ]
    },
    {
      "cell_type": "code",
      "metadata": {
        "id": "O3sHu4R4NZQE"
      },
      "source": [
        "# getting paramters using get_weight() and set_weight() method\n",
        "weights,biases  = model.layers[1].get_weights()"
      ],
      "execution_count": null,
      "outputs": []
    },
    {
      "cell_type": "code",
      "metadata": {
        "colab": {
          "base_uri": "https://localhost:8080/"
        },
        "id": "0PQRIucKNvmh",
        "outputId": "60a679b2-18cf-4757-db2d-bce53b6e7802"
      },
      "source": [
        "weights"
      ],
      "execution_count": null,
      "outputs": [
        {
          "output_type": "execute_result",
          "data": {
            "text/plain": [
              "array([[ 0.02396444, -0.03912313, -0.06238316, ...,  0.07255249,\n",
              "        -0.0685242 ,  0.02378996],\n",
              "       [-0.03573207,  0.06029409, -0.00462942, ...,  0.01459999,\n",
              "         0.01598221,  0.0636472 ],\n",
              "       [-0.03685068, -0.06511848, -0.00254799, ..., -0.02640553,\n",
              "         0.06466521,  0.04884107],\n",
              "       ...,\n",
              "       [ 0.04908096,  0.04852837, -0.04019368, ..., -0.00952844,\n",
              "        -0.06968034,  0.03524029],\n",
              "       [ 0.00736117,  0.06830625,  0.05943798, ...,  0.02742455,\n",
              "         0.00962188,  0.06852694],\n",
              "       [ 0.06686741, -0.00322746,  0.03316608, ..., -0.06282354,\n",
              "         0.06426813,  0.04060303]], dtype=float32)"
            ]
          },
          "metadata": {
            "tags": []
          },
          "execution_count": 42
        }
      ]
    },
    {
      "cell_type": "code",
      "metadata": {
        "colab": {
          "base_uri": "https://localhost:8080/"
        },
        "id": "LSreT7nTObjm",
        "outputId": "93685c25-b22c-427f-a453-a96f84284af1"
      },
      "source": [
        "weights.shape"
      ],
      "execution_count": null,
      "outputs": [
        {
          "output_type": "execute_result",
          "data": {
            "text/plain": [
              "(784, 300)"
            ]
          },
          "metadata": {
            "tags": []
          },
          "execution_count": 43
        }
      ]
    },
    {
      "cell_type": "code",
      "metadata": {
        "colab": {
          "base_uri": "https://localhost:8080/"
        },
        "id": "khKdU9cBOkoo",
        "outputId": "7cad3bf2-a5e7-4dfa-cdfb-9c7c7f69a331"
      },
      "source": [
        "biases.shape"
      ],
      "execution_count": null,
      "outputs": [
        {
          "output_type": "execute_result",
          "data": {
            "text/plain": [
              "(300,)"
            ]
          },
          "metadata": {
            "tags": []
          },
          "execution_count": 44
        }
      ]
    },
    {
      "cell_type": "code",
      "metadata": {
        "id": "mHLzQYb5S-Ko"
      },
      "source": [
        "# compiling model \n",
        "model.compile(loss = 'sparse_categorical_crossentropy', \n",
        "    optimizer = 'adam', metrics = [\"accuracy\"])"
      ],
      "execution_count": null,
      "outputs": []
    },
    {
      "cell_type": "markdown",
      "metadata": {
        "id": "s2592oHcUCqZ"
      },
      "source": [
        "### Loss and activation functions\n",
        "We use the \"sparse_categorical_crossen\n",
        "tropy\" loss because we have sparse labels (i.e., for each instance there is just a target\n",
        "class index, from 0 to 9 in this case), and the classes are exclusive. If instead we had\n",
        "one target probability per class for each instance (such as one-hot vectors, e.g. [0.,\n",
        "0., 0., 1., 0., 0., 0., 0., 0., 0.] to represent class 3), then we would need\n",
        "to use the \"categorical_crossentropy\" loss instead. If we were doing binary classi‐\n",
        "fication (with one or more binary labels), then we would use the \"sigmoid\" (i.e.,\n",
        "logistic) activation function in the output layer instead of the \"softmax\" activation\n",
        "function, and we would use the \"binary_crossentropy\" loss"
      ]
    },
    {
      "cell_type": "markdown",
      "metadata": {
        "id": "N-dAMtCAUlE2"
      },
      "source": [
        "### Training and Fitting the model \n",
        "If the performance on the training set is much better than on the validation set, your\n",
        "Implementing MLPs with Keras\n",
        "|\n",
        "299model is probably overfitting the training set (or there is a bug, such as a data mis‐\n",
        "match between the training set and the validation set):"
      ]
    },
    {
      "cell_type": "code",
      "metadata": {
        "colab": {
          "base_uri": "https://localhost:8080/"
        },
        "id": "CoTPEFJKTlCM",
        "outputId": "b43ea3b3-2b12-4561-dbbd-4a38c97ca9ce"
      },
      "source": [
        "history = model.fit(X_train,y_train, epochs = 10, validation_data = (X_valid,y_valid))"
      ],
      "execution_count": null,
      "outputs": [
        {
          "output_type": "stream",
          "text": [
            "Epoch 1/10\n",
            "1719/1719 [==============================] - 4s 2ms/step - loss: 0.2892 - accuracy: 0.8924 - val_loss: 0.3124 - val_accuracy: 0.8822\n",
            "Epoch 2/10\n",
            "1719/1719 [==============================] - 4s 2ms/step - loss: 0.2724 - accuracy: 0.8982 - val_loss: 0.3038 - val_accuracy: 0.8870\n",
            "Epoch 3/10\n",
            "1719/1719 [==============================] - 4s 2ms/step - loss: 0.2592 - accuracy: 0.9022 - val_loss: 0.3118 - val_accuracy: 0.8920\n",
            "Epoch 4/10\n",
            "1719/1719 [==============================] - 4s 2ms/step - loss: 0.2473 - accuracy: 0.9067 - val_loss: 0.3186 - val_accuracy: 0.8874\n",
            "Epoch 5/10\n",
            "1719/1719 [==============================] - 4s 2ms/step - loss: 0.2376 - accuracy: 0.9102 - val_loss: 0.3163 - val_accuracy: 0.8936\n",
            "Epoch 6/10\n",
            "1719/1719 [==============================] - 4s 2ms/step - loss: 0.2275 - accuracy: 0.9137 - val_loss: 0.3207 - val_accuracy: 0.8876\n",
            "Epoch 7/10\n",
            "1719/1719 [==============================] - 4s 2ms/step - loss: 0.2194 - accuracy: 0.9164 - val_loss: 0.2945 - val_accuracy: 0.8942\n",
            "Epoch 8/10\n",
            "1719/1719 [==============================] - 4s 2ms/step - loss: 0.2140 - accuracy: 0.9194 - val_loss: 0.3129 - val_accuracy: 0.8940\n",
            "Epoch 9/10\n",
            "1719/1719 [==============================] - 4s 2ms/step - loss: 0.2032 - accuracy: 0.9227 - val_loss: 0.3194 - val_accuracy: 0.8972\n",
            "Epoch 10/10\n",
            "1719/1719 [==============================] - 4s 2ms/step - loss: 0.1987 - accuracy: 0.9234 - val_loss: 0.3174 - val_accuracy: 0.8948\n"
          ],
          "name": "stdout"
        }
      ]
    },
    {
      "cell_type": "code",
      "metadata": {
        "colab": {
          "base_uri": "https://localhost:8080/",
          "height": 324
        },
        "id": "sWtnCQi-UysP",
        "outputId": "c8ceed28-93d0-4e41-e7ba-07dc0ed5f3bd"
      },
      "source": [
        "import pandas as pd\n",
        "import matplotlib.pyplot as plt\n",
        "pd.DataFrame(history.history).plot(figsize=(8, 5))\n",
        "plt.grid(True)\n",
        "plt.gca().set_ylim(0, 1) # set the vertical range to [0-1]\n",
        "plt.show()"
      ],
      "execution_count": null,
      "outputs": [
        {
          "output_type": "display_data",
          "data": {
            "image/png": "[encoded data removed]",
            "text/plain": [
              "<Figure size 576x360 with 1 Axes>"
            ]
          },
          "metadata": {
            "tags": [],
            "needs_background": "light"
          }
        }
      ]
    },
    {
      "cell_type": "markdown",
      "metadata": {
        "id": "0glp9OzQZnm7"
      },
      "source": [
        "### Plots and labels"
      ]
    },
    {
      "cell_type": "code",
      "metadata": {
        "colab": {
          "base_uri": "https://localhost:8080/"
        },
        "id": "l5KAMV96Y8yr",
        "outputId": "9b95f1d6-eb42-47c0-e43f-1632c1f1aae4"
      },
      "source": [
        "train_labels   "
      ],
      "execution_count": null,
      "outputs": [
        {
          "output_type": "execute_result",
          "data": {
            "text/plain": [
              "array([9, 0, 0, ..., 3, 0, 5], dtype=uint8)"
            ]
          },
          "metadata": {
            "tags": []
          },
          "execution_count": 20
        }
      ]
    },
    {
      "cell_type": "code",
      "metadata": {
        "colab": {
          "base_uri": "https://localhost:8080/",
          "height": 265
        },
        "id": "Fw7dWlXsY_24",
        "outputId": "a5b5d914-80eb-4f58-b3e1-2e19a1234a3e"
      },
      "source": [
        "plt.figure()\n",
        "plt.imshow(train_images[200])\n",
        "plt.colorbar()\n",
        "plt.grid(False)\n",
        "plt.show()"
      ],
      "execution_count": null,
      "outputs": [
        {
          "output_type": "display_data",
          "data": {
            "image/png": "[encoded data removed]",
            "text/plain": [
              "<Figure size 432x288 with 2 Axes>"
            ]
          },
          "metadata": {
            "tags": [],
            "needs_background": "light"
          }
        }
      ]
    },
    {
      "cell_type": "code",
      "metadata": {
        "colab": {
          "base_uri": "https://localhost:8080/"
        },
        "id": "MeuHQT-wZNpX",
        "outputId": "ffe0cfba-dacf-469a-b789-2d9e2794c1ba"
      },
      "source": [
        "class_names = ['T-shirt', 'Trouser', 'Pullover', 'Dress', 'Coat', 'Sandal', 'Shirt', 'Sneaker', 'Bag', 'Ankle Boot']\n",
        "len(class_names)"
      ],
      "execution_count": null,
      "outputs": [
        {
          "output_type": "execute_result",
          "data": {
            "text/plain": [
              "10"
            ]
          },
          "metadata": {
            "tags": []
          },
          "execution_count": 24
        }
      ]
    },
    {
      "cell_type": "code",
      "metadata": {
        "colab": {
          "base_uri": "https://localhost:8080/",
          "height": 589
        },
        "id": "6Z6vzLsIZRDS",
        "outputId": "b29b886f-c1b7-4553-d21a-462761d84c0c"
      },
      "source": [
        "plt.figure(figsize=(10, 10))\n",
        "for i in range(25):\n",
        "  plt.subplot(5, 5, i+1)\n",
        "  plt.xticks([])\n",
        "  plt.yticks([])\n",
        "  plt.grid(False)\n",
        "  plt.imshow(train_images[i], cmap=plt.cm.binary)\n",
        "  plt.xlabel(class_names[train_labels[i]])\n",
        "plt.show()"
      ],
      "execution_count": null,
      "outputs": [
        {
          "output_type": "display_data",
          "data": {
            "image/png": "[encoded data removed]",
            "text/plain": [
              "<Figure size 720x720 with 25 Axes>"
            ]
          },
          "metadata": {
            "tags": []
          }
        }
      ]
    },
    {
      "cell_type": "code",
      "metadata": {
        "id": "43P2oDLPZUUy"
      },
      "source": [
        ""
      ],
      "execution_count": null,
      "outputs": []
    }
  ]
}