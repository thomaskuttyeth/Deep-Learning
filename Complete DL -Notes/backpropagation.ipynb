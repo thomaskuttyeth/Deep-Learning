{
 "cells": [
  {
   "cell_type": "markdown",
   "id": "df1e7ca3-9110-4f6e-b09e-610438ad413d",
   "metadata": {},
   "source": [
    "# Backpropagation\n",
    "##### Author = Thomaskutty Reji 20122011\n",
    "##### References = 'https://mattmazur.com/2015/03/17/a-step-by-step-backpropagation-example/'"
   ]
  },
  {
   "cell_type": "markdown",
   "id": "50fe53f9-e146-476e-8308-bfed820dc530",
   "metadata": {},
   "source": [
    "## Definition\n",
    "Backpropagation is a learning algorithm to do gradient descent. Predictions are compared with the actual value and then the derivative of cost is propagated back through chain rule, to  update each weight."
   ]
  },
  {
   "cell_type": "markdown",
   "id": "6d4a4512-a7e3-412f-8bff-edb52bc685a2",
   "metadata": {},
   "source": [
    "Consider the following neural network, \n",
    "<img src = \"https://matthewmazur.files.wordpress.com/2018/03/neural_network-9.png\"> "
   ]
  },
  {
   "cell_type": "markdown",
   "id": "8a43d7f7-d07f-4830-a309-307419416ff5",
   "metadata": {},
   "source": [
    "## Forward pass \n",
    "Note : h1,h2, o1 and o2 nodes has sigmoid activation function "
   ]
  },
  {
   "cell_type": "code",
   "execution_count": 1,
   "id": "a4e29417-f97b-4b36-a8ad-92171ed4d21e",
   "metadata": {},
   "outputs": [],
   "source": [
    "import numpy as np \n",
    "def sigmoid(x):\n",
    "    return 1/(1+np.exp(-x))"
   ]
  },
  {
   "cell_type": "code",
   "execution_count": 6,
   "id": "b4ad5a84-4e4b-40bc-b0f2-ad3acef1cd1f",
   "metadata": {},
   "outputs": [
    {
     "name": "stdout",
     "output_type": "stream",
     "text": [
      "sumproduct =  0.3775\n",
      "after activation =  0.5932699921071872\n"
     ]
    }
   ],
   "source": [
    "# finding the output of the h1 node \n",
    "# neth1 = sumproduct(inputs,weights_to h1)\n",
    "net_h1 = (0.15 * 0.05) +(0.2* 0.1) + (0.35*1)\n",
    "out_h1 = sigmoid(net_h1)\n",
    "print('sumproduct = ',net_h1)\n",
    "print('after activation = ', out_h1)"
   ]
  },
  {
   "cell_type": "markdown",
   "id": "0c15f7fe-7f2b-4438-95c1-d911092271ca",
   "metadata": {},
   "source": [
    "Carrying out the same process for other nodes, we get \n",
    "\n",
    "    out_h2 = 0.59688\n",
    "    out_o1 = 1.1059 \n",
    "    out_o2 = 0.7729 "
   ]
  },
  {
   "cell_type": "markdown",
   "id": "6c6a11f0-82a0-45ca-b3fb-dc4a6831e7c5",
   "metadata": {},
   "source": [
    "#### Calculating the total error \n",
    "    Etotal = sum(target-output)**2 \n",
    "    \n",
    "In the above network, we have two output nodes, so \n",
    "\n",
    "    Etotal = E_o1+E_o2 \n",
    "  "
   ]
  },
  {
   "cell_type": "markdown",
   "id": "17574923-09b2-4df8-bb8d-960e82badbf4",
   "metadata": {},
   "source": [
    "## Backwards pass "
   ]
  },
  {
   "cell_type": "markdown",
   "id": "44f13cd4-fd7e-43e5-84e8-2807fe0b3e8a",
   "metadata": {},
   "source": [
    "We consider the the case of w5, and how we going to update the weights using chain rule. We want to know the effect of change of w5 with respect to the total error (Etotal). \n",
    "\n",
    "The following diagram represents the above mentioned specific case\n",
    "\n",
    "<img src =\"https://matthewmazur.files.wordpress.com/2018/03/output_1_backprop-4.png\"> \n",
    "\n",
    " * We can see that Etotal is depended on out_o1, out_o2.\n",
    " * Now consider the case of out_o1, remember that we need to reach till w5. \n",
    " * Again, out_o1 is further depended on w5,w6 and bias b2\n",
    " * Now we calculate the rate of change of Etotal with respect to w5 using the following chain\n",
    " \n",
    " <img src = \"https://s0.wp.com/latex.php?latex=%5Cfrac%7B%5Cpartial+E_%7Btotal%7D%7D%7B%5Cpartial+w_%7B5%7D%7D+%3D+%5Cfrac%7B%5Cpartial+E_%7Btotal%7D%7D%7B%5Cpartial+out_%7Bo1%7D%7D+%2A+%5Cfrac%7B%5Cpartial+out_%7Bo1%7D%7D%7B%5Cpartial+net_%7Bo1%7D%7D+%2A+%5Cfrac%7B%5Cpartial+net_%7Bo1%7D%7D%7B%5Cpartial+w_%7B5%7D%7D&bg=ffffff&fg=404040&s=2&c=20201002&zoom=2\">\n",
    "\n"
   ]
  },
  {
   "cell_type": "markdown",
   "id": "2e688dda-33f5-4f2a-aa6b-1436c4fc6d7c",
   "metadata": {},
   "source": [
    "Now we need to find E_total and its derivative with respect to out_o1\n",
    "\n",
    "<img src=\"https://s0.wp.com/latex.php?latex=%5Cfrac%7B%5Cpartial+E_%7Btotal%7D%7D%7B%5Cpartial+out_%7Bo1%7D%7D+%3D+2+%2A+%5Cfrac%7B1%7D%7B2%7D%28target_%7Bo1%7D+-+out_%7Bo1%7D%29%5E%7B2+-+1%7D+%2A+-1+%2B+0&bg=ffffff&fg=404040&s=0&c=20201002&zoom=2\">\n",
    "<img src = \"https://s0.wp.com/latex.php?latex=%5Cfrac%7B%5Cpartial+E_%7Btotal%7D%7D%7B%5Cpartial+out_%7Bo1%7D%7D+%3D+2+%2A+%5Cfrac%7B1%7D%7B2%7D%28target_%7Bo1%7D+-+out_%7Bo1%7D%29%5E%7B2+-+1%7D+%2A+-1+%2B+0&bg=ffffff&fg=404040&s=0&c=20201002&zoom=2\">\n",
    "<img src = \"https://s0.wp.com/latex.php?latex=%5Cfrac%7B%5Cpartial+E_%7Btotal%7D%7D%7B%5Cpartial+out_%7Bo1%7D%7D+%3D+-%28target_%7Bo1%7D+-+out_%7Bo1%7D%29+%3D+-%280.01+-+0.75136507%29+%3D+0.74136507&bg=ffffff&fg=404040&s=0&c=20201002&zoom=2\">"
   ]
  },
  {
   "attachments": {
    "4ff37e8f-1441-4101-b4b8-04435bbe4f9f.png": {
     "image/png": "[encoded data removed]"
    }
   },
   "cell_type": "markdown",
   "id": "b54ac0ae-f7d6-43b2-98bb-fee120388318",
   "metadata": {},
   "source": [
    "We get the out_o1 after applying the activation function to net_o1, so, the formula for the activation is sigmoid. \n",
    "\n",
    "![image.png](attachment:4ff37e8f-1441-4101-b4b8-04435bbe4f9f.png)\n",
    "\n",
    "<img src = \"https://s0.wp.com/latex.php?latex=%5Cfrac%7B%5Cpartial+out_%7Bo1%7D%7D%7B%5Cpartial+net_%7Bo1%7D%7D+%3D+out_%7Bo1%7D%281+-+out_%7Bo1%7D%29+%3D+0.75136507%281+-+0.75136507%29+%3D+0.186815602&bg=ffffff&fg=404040&s=0&c=20201002&zoom=2\">"
   ]
  },
  {
   "cell_type": "markdown",
   "id": "e6e20980-a560-4710-bba4-931d1d855ce5",
   "metadata": {},
   "source": [
    "Finally, we need to find the rate of change of net_o3 with respect to the weight w5, Remember that net_o3 is a function of w5, out_h1, w6 and out_h2. So, \n",
    "\n",
    "<img src=\"https://s0.wp.com/latex.php?latex=net_%7Bo1%7D+%3D+w_5+%2A+out_%7Bh1%7D+%2B+w_6+%2A+out_%7Bh2%7D+%2B+b_2+%2A+1&bg=ffffff&fg=404040&s=0&c=20201002&zoom=2\">\n",
    "<img src=\"https://s0.wp.com/latex.php?latex=%5Cfrac%7B%5Cpartial+net_%7Bo1%7D%7D%7B%5Cpartial+w_%7B5%7D%7D+%3D+1+%2A+out_%7Bh1%7D+%2A+w_5%5E%7B%281+-+1%29%7D+%2B+0+%2B+0+%3D+out_%7Bh1%7D+%3D+0.593269992&bg=ffffff&fg=404040&s=0&c=20201002&zoom=2\">\n"
   ]
  },
  {
   "cell_type": "markdown",
   "id": "830a68b2-20f8-4b79-80d3-2daa88d5eb6e",
   "metadata": {},
   "source": [
    "Now, we have everything for calculating the effect of w5 on the total error \n",
    "\n",
    "<img src=\"https://s0.wp.com/latex.php?latex=%5Cfrac%7B%5Cpartial+E_%7Btotal%7D%7D%7B%5Cpartial+w_%7B5%7D%7D+%3D+%5Cfrac%7B%5Cpartial+E_%7Btotal%7D%7D%7B%5Cpartial+out_%7Bo1%7D%7D+%2A+%5Cfrac%7B%5Cpartial+out_%7Bo1%7D%7D%7B%5Cpartial+net_%7Bo1%7D%7D+%2A+%5Cfrac%7B%5Cpartial+net_%7Bo1%7D%7D%7B%5Cpartial+w_%7B5%7D%7D&bg=ffffff&fg=404040&s=0&c=20201002&zoom=2\"> \n",
    "<img src = \"https://s0.wp.com/latex.php?latex=%5Cfrac%7B%5Cpartial+E_%7Btotal%7D%7D%7B%5Cpartial+w_%7B5%7D%7D+%3D+0.74136507+%2A+0.186815602+%2A+0.593269992+%3D+0.082167041&bg=ffffff&fg=404040&s=0&c=20201002&zoom=2\"> "
   ]
  },
  {
   "cell_type": "markdown",
   "id": "6f860f89-1868-4785-acef-9f32db9ff4c4",
   "metadata": {},
   "source": [
    "### Weight updation formula "
   ]
  },
  {
   "cell_type": "markdown",
   "id": "4623fa08-a09e-4736-9ee5-4dda61b3fb1b",
   "metadata": {},
   "source": [
    "The general weight updation rule is \n",
    "\n",
    "<img src=\"https://encrypted-tbn0.gstatic.com/images?q=tbn:ANd9GcRZTGJ1hJz_A--tZr42vHP4jvh6qkGqLP29Zw&usqp=CAU\">\n",
    "\n",
    "Here, alpha represents the learning rate and J(theta) represents the cost function"
   ]
  },
  {
   "cell_type": "markdown",
   "id": "3ebf599b-e375-4018-85ae-7bdee5db7216",
   "metadata": {},
   "source": [
    "So, here we update the weight w5 as follows, \n",
    "<img src=\"https://s0.wp.com/latex.php?latex=w_5%5E%7B%2B%7D+%3D+w_5+-+%5Ceta+%2A+%5Cfrac%7B%5Cpartial+E_%7Btotal%7D%7D%7B%5Cpartial+w_%7B5%7D%7D+%3D+0.4+-+0.5+%2A+0.082167041+%3D+0.35891648&bg=ffffff&fg=404040&s=0&c=20201002&zoom=2\">"
   ]
  },
  {
   "cell_type": "markdown",
   "id": "ed135789-6e43-42f7-9455-bffbf71f4c95",
   "metadata": {},
   "source": [
    "### Repeating till convergence \n",
    "Finally, we’ve updated all of our weights! When we fed forward the 0.05 and 0.1 inputs originally, the error on the network was 0.298371109. But after repeating this process 10,000 times, for example, the error plummets to 0.0000351085."
   ]
  },
  {
   "cell_type": "code",
   "execution_count": null,
   "id": "1a7dd1cf-75af-4404-b0d8-88fe67c5a0b0",
   "metadata": {},
   "outputs": [],
   "source": []
  }
 ],
 "metadata": {
  "kernelspec": {
   "display_name": "Python 3",
   "language": "python",
   "name": "python3"
  },
  "language_info": {
   "codemirror_mode": {
    "name": "ipython",
    "version": 3
   },
   "file_extension": ".py",
   "mimetype": "text/x-python",
   "name": "python",
   "nbconvert_exporter": "python",
   "pygments_lexer": "ipython3",
   "version": "3.8.8"
  }
 },
 "nbformat": 4,
 "nbformat_minor": 5
}
