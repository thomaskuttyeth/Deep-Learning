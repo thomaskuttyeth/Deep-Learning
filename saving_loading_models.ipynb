{
  "nbformat": 4,
  "nbformat_minor": 0,
  "metadata": {
    "colab": {
      "name": "saving_loading_models.ipynb",
      "provenance": [],
      "collapsed_sections": []
    },
    "kernelspec": {
      "name": "python3",
      "display_name": "Python 3"
    },
    "language_info": {
      "name": "python"
    }
  },
  "cells": [
    {
      "cell_type": "code",
      "metadata": {
        "id": "uWBSbynQYsnn"
      },
      "source": [
        "# !pip install h5py pyyaml "
      ],
      "execution_count": null,
      "outputs": []
    },
    {
      "cell_type": "code",
      "metadata": {
        "id": "kXldC24SZVh5"
      },
      "source": [
        "from __future__ import absolute_import, division, print_function \n",
        "import os \n",
        "import tensorflow as tf \n",
        "from tensorflow import keras "
      ],
      "execution_count": null,
      "outputs": []
    },
    {
      "cell_type": "code",
      "metadata": {
        "colab": {
          "base_uri": "https://localhost:8080/"
        },
        "id": "Vsae1OobZh8h",
        "outputId": "888e24eb-07b5-4450-af5f-641510ce8636"
      },
      "source": [
        "print(tf.__version__)"
      ],
      "execution_count": null,
      "outputs": [
        {
          "output_type": "stream",
          "text": [
            "2.5.0\n"
          ],
          "name": "stdout"
        }
      ]
    },
    {
      "cell_type": "code",
      "metadata": {
        "id": "3asaSu57ZjCA"
      },
      "source": [
        "# loading the mnist dataset \n",
        "(train_images, train_labels), (test_images, test_labels) = tf.keras.datasets.mnist.load_data()\n",
        "\n",
        "# taking the first 1000 images \n",
        "train_labels = train_labels[:1000] \n",
        "test_labels = test_labels[:1000] \n",
        "\n",
        "# reshaping the images \n",
        "train_images = train_images[:1000].reshape(-1, 28*28) / 255.0 \n",
        "test_images = test_images[:1000].reshape(-1, 28*28) / 255.0 "
      ],
      "execution_count": null,
      "outputs": []
    },
    {
      "cell_type": "code",
      "metadata": {
        "id": "aK1pMEXvaF_C"
      },
      "source": [
        "import matplotlib.pyplot as plt\n",
        "from skimage import data, io , img_as_float"
      ],
      "execution_count": null,
      "outputs": []
    },
    {
      "cell_type": "code",
      "metadata": {
        "id": "8k1WBOMKaQY-"
      },
      "source": [
        "# plt.imshow(train_images[2], aspect = 'equal', cmap  = 'Blues')\n",
        "# plt.grid(False)\n",
        "# _ = plt.show()"
      ],
      "execution_count": null,
      "outputs": []
    },
    {
      "cell_type": "code",
      "metadata": {
        "id": "I4xTQwd1dN1j"
      },
      "source": [
        "# defining the model \n",
        "\n",
        "def create_model():\n",
        "    model = tf.keras.models.Sequential([\n",
        "        # input layer \n",
        "        keras.layers.Dense(\n",
        "            units = 163, \n",
        "            activation = tf.nn.relu,\n",
        "            input_shape = (784, )),\n",
        "        # adding the drop out \n",
        "        keras.layers.Dropout(0.2), \n",
        "        # adding the output dense layer \n",
        "        keras.layers.Dense(units = 10 , activation = tf.nn.softmax) \n",
        "    ]) \n",
        "\n",
        "    # compiling the model \n",
        "    model.compile(\n",
        "        optimizer = tf.keras.optimizers.Adam(), \n",
        "        loss = tf.keras.losses.sparse_categorical_crossentropy, \n",
        "        metrics = ['accuracy'] \n",
        "    )\n",
        "\n",
        "    return model "
      ],
      "execution_count": null,
      "outputs": []
    },
    {
      "cell_type": "code",
      "metadata": {
        "colab": {
          "base_uri": "https://localhost:8080/"
        },
        "id": "Xy141dsge0aK",
        "outputId": "f9a46261-1b50-4971-9c8b-5105dcc3ad16"
      },
      "source": [
        "# create the basic model instance \n",
        "model = create_model() \n",
        "model.summary()"
      ],
      "execution_count": null,
      "outputs": [
        {
          "output_type": "stream",
          "text": [
            "Model: \"sequential\"\n",
            "_________________________________________________________________\n",
            "Layer (type)                 Output Shape              Param #   \n",
            "=================================================================\n",
            "dense (Dense)                (None, 163)               127955    \n",
            "_________________________________________________________________\n",
            "dropout (Dropout)            (None, 163)               0         \n",
            "_________________________________________________________________\n",
            "dense_1 (Dense)              (None, 10)                1640      \n",
            "=================================================================\n",
            "Total params: 129,595\n",
            "Trainable params: 129,595\n",
            "Non-trainable params: 0\n",
            "_________________________________________________________________\n"
          ],
          "name": "stdout"
        }
      ]
    },
    {
      "cell_type": "markdown",
      "metadata": {
        "id": "ZOiBHLWWgWkI"
      },
      "source": [
        "#### Now tf.keras.callbacks.ModelCheckpoint is a callback that performs saving the checkpoints during and at the end of training. The callback takes a couple of arguments to configure checkpointing."
      ]
    },
    {
      "cell_type": "code",
      "metadata": {
        "colab": {
          "base_uri": "https://localhost:8080/"
        },
        "id": "nGktMqE-dPiW",
        "outputId": "d7a222be-ef4f-4707-ff82-7ef9d6814fb9"
      },
      "source": [
        "checkpoint_path = 'training_1/cp.ckpt' \n",
        "checkpoint_dir = os.path.dirname(checkpoint_path) \n",
        "\n",
        "# create checkpoint callback \n",
        "cp_callback = tf.keras.callbacks.ModelCheckpoint(\n",
        "    checkpoint_path, \n",
        "    save_weights_only = True, \n",
        "    verbose = 1 \n",
        ")\n",
        "\n",
        "model =  create_model() \n",
        "model.fit(\n",
        "    train_images, \n",
        "    train_labels, \n",
        "    epochs = 10, \n",
        "    validation_data = (test_images, test_labels), \n",
        "    callbacks = [cp_callback] # passing callbacks to training \n",
        ")"
      ],
      "execution_count": null,
      "outputs": [
        {
          "output_type": "stream",
          "text": [
            "Epoch 1/10\n",
            "32/32 [==============================] - 1s 8ms/step - loss: 1.4512 - accuracy: 0.5770 - val_loss: 0.9631 - val_accuracy: 0.7560\n",
            "\n",
            "Epoch 00001: saving model to training_1/cp.ckpt\n",
            "Epoch 2/10\n",
            "32/32 [==============================] - 0s 4ms/step - loss: 0.6368 - accuracy: 0.8290 - val_loss: 0.6613 - val_accuracy: 0.8070\n",
            "\n",
            "Epoch 00002: saving model to training_1/cp.ckpt\n",
            "Epoch 3/10\n",
            "32/32 [==============================] - 0s 5ms/step - loss: 0.4251 - accuracy: 0.8810 - val_loss: 0.5804 - val_accuracy: 0.8250\n",
            "\n",
            "Epoch 00003: saving model to training_1/cp.ckpt\n",
            "Epoch 4/10\n",
            "32/32 [==============================] - 0s 4ms/step - loss: 0.3314 - accuracy: 0.9120 - val_loss: 0.5213 - val_accuracy: 0.8380\n",
            "\n",
            "Epoch 00004: saving model to training_1/cp.ckpt\n",
            "Epoch 5/10\n",
            "32/32 [==============================] - 0s 5ms/step - loss: 0.2650 - accuracy: 0.9330 - val_loss: 0.4913 - val_accuracy: 0.8420\n",
            "\n",
            "Epoch 00005: saving model to training_1/cp.ckpt\n",
            "Epoch 6/10\n",
            "32/32 [==============================] - 0s 5ms/step - loss: 0.2361 - accuracy: 0.9340 - val_loss: 0.5007 - val_accuracy: 0.8310\n",
            "\n",
            "Epoch 00006: saving model to training_1/cp.ckpt\n",
            "Epoch 7/10\n",
            "32/32 [==============================] - 0s 5ms/step - loss: 0.1767 - accuracy: 0.9620 - val_loss: 0.4371 - val_accuracy: 0.8570\n",
            "\n",
            "Epoch 00007: saving model to training_1/cp.ckpt\n",
            "Epoch 8/10\n",
            "32/32 [==============================] - 0s 5ms/step - loss: 0.1644 - accuracy: 0.9630 - val_loss: 0.4344 - val_accuracy: 0.8580\n",
            "\n",
            "Epoch 00008: saving model to training_1/cp.ckpt\n",
            "Epoch 9/10\n",
            "32/32 [==============================] - 0s 5ms/step - loss: 0.1366 - accuracy: 0.9750 - val_loss: 0.4432 - val_accuracy: 0.8540\n",
            "\n",
            "Epoch 00009: saving model to training_1/cp.ckpt\n",
            "Epoch 10/10\n",
            "32/32 [==============================] - 0s 5ms/step - loss: 0.1082 - accuracy: 0.9800 - val_loss: 0.4292 - val_accuracy: 0.8550\n",
            "\n",
            "Epoch 00010: saving model to training_1/cp.ckpt\n"
          ],
          "name": "stdout"
        },
        {
          "output_type": "execute_result",
          "data": {
            "text/plain": [
              "<tensorflow.python.keras.callbacks.History at 0x7f416296ef10>"
            ]
          },
          "metadata": {
            "tags": []
          },
          "execution_count": 27
        }
      ]
    },
    {
      "cell_type": "code",
      "metadata": {
        "colab": {
          "base_uri": "https://localhost:8080/"
        },
        "id": "Yj3W83qhhD0P",
        "outputId": "9078f438-0050-49b3-901b-c8b59d01faa5"
      },
      "source": [
        "!ls {checkpoint_dir}"
      ],
      "execution_count": null,
      "outputs": [
        {
          "output_type": "stream",
          "text": [
            "checkpoint  cp.ckpt.data-00000-of-00001  cp.ckpt.index\n"
          ],
          "name": "stdout"
        }
      ]
    },
    {
      "cell_type": "code",
      "metadata": {
        "colab": {
          "base_uri": "https://localhost:8080/"
        },
        "id": "8TKGxvEKhczp",
        "outputId": "af8227d0-7eb2-4d8a-f088-45ec8a7ec571"
      },
      "source": [
        "model = create_model() \n",
        "loss, acc = model.evaluate(test_images, test_labels) \n",
        "print('Untrained model, accuracy : {:5.2f}%'.format(100*acc)) "
      ],
      "execution_count": null,
      "outputs": [
        {
          "output_type": "stream",
          "text": [
            "32/32 [==============================] - 0s 1ms/step - loss: 2.3553 - accuracy: 0.0970\n",
            "Untrained model, accuracy :  9.70%\n"
          ],
          "name": "stdout"
        }
      ]
    },
    {
      "cell_type": "code",
      "metadata": {
        "colab": {
          "base_uri": "https://localhost:8080/"
        },
        "id": "UPA1Gc2tjnOj",
        "outputId": "2e8fc594-b8e1-4bbb-d429-9bc6f2efc353"
      },
      "source": [
        "# load the weights from the checkpoint and re-evaluate \n",
        "model.load_weights(checkpoint_path) \n",
        "loss, acc = model.evaluate(test_images, test_labels) \n",
        "print('Restored model, accuracy : {:5.2f}%'.format(100*acc)) "
      ],
      "execution_count": null,
      "outputs": [
        {
          "output_type": "stream",
          "text": [
            "32/32 [==============================] - 0s 1ms/step - loss: 0.4292 - accuracy: 0.8550\n",
            "Restored model, accuracy : 85.50%\n"
          ],
          "name": "stdout"
        }
      ]
    },
    {
      "cell_type": "code",
      "metadata": {
        "colab": {
          "base_uri": "https://localhost:8080/"
        },
        "id": "00AdoF4hj9H1",
        "outputId": "a7050b49-9886-458b-953a-b1ec4d97efc8"
      },
      "source": [
        "# adjusting the checkpoint frequency by training new model \n",
        "checkpoint_path = \"training_2/cp-{epoch:04d}.ckpt\" \n",
        "checkpoint_dir = os.path.dirname(checkpoint_path) \n",
        "\n",
        "cp_callback = tf.keras.callbacks.ModelCheckpoint(\n",
        "    checkpoint_path, verbose = 1, save_weights_only = True, \n",
        "\n",
        "    # save werights by every 5 epoch \n",
        "    period = 5\n",
        ") \n",
        "\n",
        "model = create_model() \n",
        "model.fit(train_images, train_labels, \n",
        "          epochs = 50 , \n",
        "          callbacks = [cp_callback], \n",
        "          validation_data = (test_images, test_labels), \n",
        "          verbose = 0) "
      ],
      "execution_count": null,
      "outputs": [
        {
          "output_type": "stream",
          "text": [
            "WARNING:tensorflow:`period` argument is deprecated. Please use `save_freq` to specify the frequency in number of batches seen.\n",
            "\n",
            "Epoch 00005: saving model to training_2/cp-0005.ckpt\n",
            "\n",
            "Epoch 00010: saving model to training_2/cp-0010.ckpt\n",
            "\n",
            "Epoch 00015: saving model to training_2/cp-0015.ckpt\n",
            "\n",
            "Epoch 00020: saving model to training_2/cp-0020.ckpt\n",
            "\n",
            "Epoch 00025: saving model to training_2/cp-0025.ckpt\n",
            "\n",
            "Epoch 00030: saving model to training_2/cp-0030.ckpt\n",
            "\n",
            "Epoch 00035: saving model to training_2/cp-0035.ckpt\n",
            "\n",
            "Epoch 00040: saving model to training_2/cp-0040.ckpt\n",
            "\n",
            "Epoch 00045: saving model to training_2/cp-0045.ckpt\n",
            "\n",
            "Epoch 00050: saving model to training_2/cp-0050.ckpt\n"
          ],
          "name": "stdout"
        },
        {
          "output_type": "execute_result",
          "data": {
            "text/plain": [
              "<tensorflow.python.keras.callbacks.History at 0x7f415fbb5b90>"
            ]
          },
          "metadata": {
            "tags": []
          },
          "execution_count": 33
        }
      ]
    },
    {
      "cell_type": "code",
      "metadata": {
        "colab": {
          "base_uri": "https://localhost:8080/"
        },
        "id": "xbAtO-_ElCkv",
        "outputId": "e778c647-4fe1-4a0c-d7c8-6dfcf94bfa6f"
      },
      "source": [
        "!ls {checkpoint_dir}"
      ],
      "execution_count": null,
      "outputs": [
        {
          "output_type": "stream",
          "text": [
            "checkpoint\t\t\t  cp-0030.ckpt.data-00000-of-00001\n",
            "cp-0005.ckpt.data-00000-of-00001  cp-0030.ckpt.index\n",
            "cp-0005.ckpt.index\t\t  cp-0035.ckpt.data-00000-of-00001\n",
            "cp-0010.ckpt.data-00000-of-00001  cp-0035.ckpt.index\n",
            "cp-0010.ckpt.index\t\t  cp-0040.ckpt.data-00000-of-00001\n",
            "cp-0015.ckpt.data-00000-of-00001  cp-0040.ckpt.index\n",
            "cp-0015.ckpt.index\t\t  cp-0045.ckpt.data-00000-of-00001\n",
            "cp-0020.ckpt.data-00000-of-00001  cp-0045.ckpt.index\n",
            "cp-0020.ckpt.index\t\t  cp-0050.ckpt.data-00000-of-00001\n",
            "cp-0025.ckpt.data-00000-of-00001  cp-0050.ckpt.index\n",
            "cp-0025.ckpt.index\n"
          ],
          "name": "stdout"
        }
      ]
    },
    {
      "cell_type": "code",
      "metadata": {
        "colab": {
          "base_uri": "https://localhost:8080/",
          "height": 35
        },
        "id": "dP-kK8p8lOHp",
        "outputId": "5fd0a1a1-21d2-42f9-b641-637127786e6a"
      },
      "source": [
        "latest = tf.train.latest_checkpoint(checkpoint_dir) \n",
        "latest"
      ],
      "execution_count": null,
      "outputs": [
        {
          "output_type": "execute_result",
          "data": {
            "application/vnd.google.colaboratory.intrinsic+json": {
              "type": "string"
            },
            "text/plain": [
              "'training_2/cp-0050.ckpt'"
            ]
          },
          "metadata": {
            "tags": []
          },
          "execution_count": 36
        }
      ]
    },
    {
      "cell_type": "markdown",
      "metadata": {
        "id": "Z3bOtavPlpR6"
      },
      "source": [
        "##### Note : The default tensorflow format only saves 5 most recent checkpoints "
      ]
    },
    {
      "cell_type": "code",
      "metadata": {
        "colab": {
          "base_uri": "https://localhost:8080/"
        },
        "id": "AneMaKhQlf1e",
        "outputId": "7ca46db3-cb06-4ac3-9249-85beeb975e82"
      },
      "source": [
        "# testing the latest chekpoint \n",
        "model = create_model() \n",
        "model.load_weights(latest) \n",
        "loss, acc = model.evaluate(test_images, test_labels) \n",
        "print('Restored model, accuracy : {:5.2f}%'.format(100*acc))"
      ],
      "execution_count": null,
      "outputs": [
        {
          "output_type": "stream",
          "text": [
            "32/32 [==============================] - 0s 1ms/step - loss: 0.5097 - accuracy: 0.8670\n",
            "Restored model, accuracy : 86.70%\n"
          ],
          "name": "stdout"
        }
      ]
    },
    {
      "cell_type": "markdown",
      "metadata": {
        "id": "6GKpl-4mmHqg"
      },
      "source": [
        "#### Notes : The checkpoint files contain only the trained weihgts in a binary format "
      ]
    },
    {
      "cell_type": "code",
      "metadata": {
        "colab": {
          "base_uri": "https://localhost:8080/"
        },
        "id": "zetxaK6QmARV",
        "outputId": "5253aaca-309b-4faf-8988-af0de833797e"
      },
      "source": [
        "# another way of saving model \n",
        "\n",
        "# saving the weights \n",
        "model.save_weights('./checkpoints/my_checkpoint') \n",
        "\n",
        "# restore the weights \n",
        "model = create_model() \n",
        "model.load_weights('./checkpoints/my_checkpoint') \n",
        "\n",
        "loss, acc = model.evaluate(test_images, test_labels) \n",
        "print('Restored model, accuracy : {:5.2f}%'.format(100*acc)) \n"
      ],
      "execution_count": null,
      "outputs": [
        {
          "output_type": "stream",
          "text": [
            "32/32 [==============================] - 0s 1ms/step - loss: 0.5097 - accuracy: 0.8670\n",
            "Restored model, accuracy : 86.70%\n"
          ],
          "name": "stdout"
        }
      ]
    },
    {
      "cell_type": "markdown",
      "metadata": {
        "id": "aeXqnGE8nJO0"
      },
      "source": [
        "# Save the entire model \n",
        "The entire model can be saved to a file that contains the weight values, the model's configuration, and even the optimizer's configuraton. This allows you to checkpoint a model and resume the training later- from the exact same state- without access to the original code.  "
      ]
    },
    {
      "cell_type": "code",
      "metadata": {
        "colab": {
          "base_uri": "https://localhost:8080/"
        },
        "id": "D-rqLUvDmo8L",
        "outputId": "768bd73c-c0b7-43dc-9a2a-bcca81e2cfab"
      },
      "source": [
        "model =  create_model() \n",
        "model.summary()"
      ],
      "execution_count": null,
      "outputs": [
        {
          "output_type": "stream",
          "text": [
            "Model: \"sequential_8\"\n",
            "_________________________________________________________________\n",
            "Layer (type)                 Output Shape              Param #   \n",
            "=================================================================\n",
            "dense_16 (Dense)             (None, 163)               127955    \n",
            "_________________________________________________________________\n",
            "dropout_8 (Dropout)          (None, 163)               0         \n",
            "_________________________________________________________________\n",
            "dense_17 (Dense)             (None, 10)                1640      \n",
            "=================================================================\n",
            "Total params: 129,595\n",
            "Trainable params: 129,595\n",
            "Non-trainable params: 0\n",
            "_________________________________________________________________\n"
          ],
          "name": "stdout"
        }
      ]
    },
    {
      "cell_type": "code",
      "metadata": {
        "colab": {
          "base_uri": "https://localhost:8080/"
        },
        "id": "rhPDC0jrnszJ",
        "outputId": "a9da8eb7-4bfc-48e4-f956-08caa44813dd"
      },
      "source": [
        "model.fit(train_images, train_labels, epochs = 5) \n",
        "\n",
        "# saving the model to hdf5 file \n",
        "model.save('my_model.h5') \n"
      ],
      "execution_count": null,
      "outputs": [
        {
          "output_type": "stream",
          "text": [
            "Epoch 1/5\n",
            "32/32 [==============================] - 0s 3ms/step - loss: 1.5180 - accuracy: 0.5710\n",
            "Epoch 2/5\n",
            "32/32 [==============================] - 0s 3ms/step - loss: 0.6471 - accuracy: 0.8190\n",
            "Epoch 3/5\n",
            "32/32 [==============================] - 0s 3ms/step - loss: 0.4196 - accuracy: 0.8880\n",
            "Epoch 4/5\n",
            "32/32 [==============================] - 0s 3ms/step - loss: 0.3471 - accuracy: 0.9090\n",
            "Epoch 5/5\n",
            "32/32 [==============================] - 0s 3ms/step - loss: 0.2802 - accuracy: 0.9300\n"
          ],
          "name": "stdout"
        }
      ]
    },
    {
      "cell_type": "code",
      "metadata": {
        "colab": {
          "base_uri": "https://localhost:8080/"
        },
        "id": "zGY2an55qLe_",
        "outputId": "18bc2af7-f9ca-4533-ebe5-e578a80d2c9d"
      },
      "source": [
        "# recreate the exactt same model, including the weights and optimizer. \n",
        "new_model = keras.models.load_model('my_model.h5') \n",
        "new_model.summary() "
      ],
      "execution_count": null,
      "outputs": [
        {
          "output_type": "stream",
          "text": [
            "Model: \"sequential_8\"\n",
            "_________________________________________________________________\n",
            "Layer (type)                 Output Shape              Param #   \n",
            "=================================================================\n",
            "dense_16 (Dense)             (None, 163)               127955    \n",
            "_________________________________________________________________\n",
            "dropout_8 (Dropout)          (None, 163)               0         \n",
            "_________________________________________________________________\n",
            "dense_17 (Dense)             (None, 10)                1640      \n",
            "=================================================================\n",
            "Total params: 129,595\n",
            "Trainable params: 129,595\n",
            "Non-trainable params: 0\n",
            "_________________________________________________________________\n"
          ],
          "name": "stdout"
        }
      ]
    },
    {
      "cell_type": "code",
      "metadata": {
        "colab": {
          "base_uri": "https://localhost:8080/"
        },
        "id": "6Ptb9rpfqar2",
        "outputId": "d4d89f57-4814-4008-f9dc-86d743a8c6ae"
      },
      "source": [
        "# now we can check its accuracy \n",
        "loss, acc = new_model.evaluate(test_images, test_labels) \n",
        "print('restored_model, accuracy : {:5.2f}%'.format(100*acc)) "
      ],
      "execution_count": null,
      "outputs": [
        {
          "output_type": "stream",
          "text": [
            "32/32 [==============================] - 0s 1ms/step - loss: 0.5054 - accuracy: 0.8410\n",
            "restored_model, accuracy : 84.10%\n"
          ],
          "name": "stdout"
        }
      ]
    },
    {
      "cell_type": "code",
      "metadata": {
        "colab": {
          "base_uri": "https://localhost:8080/",
          "height": 513
        },
        "id": "CKDMDetmrVof",
        "outputId": "06433005-8856-468a-a623-d1a0582abeb4"
      },
      "source": [
        "# A few random samples\n",
        "use_samples = [2,3]\n",
        "samples_to_predict = []\n",
        "\n",
        "# Generate plots for samples\n",
        "for sample in use_samples:\n",
        "  # Generate a plot\n",
        "  reshaped_image = test_images[sample].reshape((28, 28))\n",
        "  plt.imshow(reshaped_image)\n",
        "  plt.show()\n",
        "  # Add sample to array for prediction\n",
        "  samples_to_predict.append(test_images[sample])"
      ],
      "execution_count": null,
      "outputs": [
        {
          "output_type": "display_data",
          "data": {
            "image/png": "[encoded data removed]",
            "text/plain": [
              "<Figure size 432x288 with 1 Axes>"
            ]
          },
          "metadata": {
            "tags": [],
            "needs_background": "light"
          }
        },
        {
          "output_type": "display_data",
          "data": {
            "image/png": "[encoded data removed]",
            "text/plain": [
              "<Figure size 432x288 with 1 Axes>"
            ]
          },
          "metadata": {
            "tags": [],
            "needs_background": "light"
          }
        }
      ]
    },
    {
      "cell_type": "code",
      "metadata": {
        "colab": {
          "base_uri": "https://localhost:8080/"
        },
        "id": "H3997LWzvFJE",
        "outputId": "e16ef2bc-90bf-4cdf-c74e-8b8b13999aa4"
      },
      "source": [
        "# Convert into Numpy array\n",
        "samples_to_predict = np.array(samples_to_predict)\n",
        "samples_to_predict.shape"
      ],
      "execution_count": null,
      "outputs": [
        {
          "output_type": "execute_result",
          "data": {
            "text/plain": [
              "(2, 784)"
            ]
          },
          "metadata": {
            "tags": []
          },
          "execution_count": 55
        }
      ]
    },
    {
      "cell_type": "code",
      "metadata": {
        "colab": {
          "base_uri": "https://localhost:8080/"
        },
        "id": "OcFRwE67vs56",
        "outputId": "3d77cb24-e246-4df7-b7a1-178a0ecbdb5b"
      },
      "source": [
        "# Generate predictions for samples\n",
        "predictions = model.predict(samples_to_predict)\n",
        "print(predictions)"
      ],
      "execution_count": null,
      "outputs": [
        {
          "output_type": "stream",
          "text": [
            "[[1.3772099e-03 8.6017650e-01 5.7426013e-02 1.0724638e-02 1.9364188e-03\n",
            "  2.2135994e-03 1.0277317e-02 2.9684622e-02 1.9005593e-02 7.1781212e-03]\n",
            " [9.7498953e-01 3.3111451e-06 2.9906649e-03 3.5176676e-04 2.3513845e-04\n",
            "  2.3575819e-03 1.4243071e-02 4.3246350e-03 1.0586347e-04 3.9861479e-04]]\n"
          ],
          "name": "stdout"
        }
      ]
    },
    {
      "cell_type": "code",
      "metadata": {
        "colab": {
          "base_uri": "https://localhost:8080/"
        },
        "id": "rppHK_WmwA4q",
        "outputId": "98c9d4b4-e757-4611-f04d-a5c35603ebf5"
      },
      "source": [
        "# Generate arg maxes for predictions\n",
        "classes = np.argmax(predictions, axis = 1)\n",
        "print(classes)"
      ],
      "execution_count": null,
      "outputs": [
        {
          "output_type": "stream",
          "text": [
            "[1 0]\n"
          ],
          "name": "stdout"
        }
      ]
    },
    {
      "cell_type": "code",
      "metadata": {
        "id": "lLjiUFbUwHA1"
      },
      "source": [
        ""
      ],
      "execution_count": null,
      "outputs": []
    }
  ]
}